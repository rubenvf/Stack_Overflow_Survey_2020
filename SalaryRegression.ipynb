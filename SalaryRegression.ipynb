{
 "cells": [
  {
   "cell_type": "markdown",
   "id": "neither-gothic",
   "metadata": {},
   "source": [
    "# Regression model to predict the salary of developers\n",
    "Stack Overflow's Survey 2020"
   ]
  },
  {
   "cell_type": "markdown",
   "id": "eleven-boundary",
   "metadata": {},
   "source": [
    "The goal of this project is to analyze the data from the 2020 Stack Overflow survey. More specifically, I am going to focus on  trying to predict the salary of developers using a linear regression."
   ]
  },
  {
   "cell_type": "markdown",
   "id": "electric-beauty",
   "metadata": {},
   "source": [
    "## 1.- Gather"
   ]
  },
  {
   "cell_type": "code",
   "execution_count": 1,
   "id": "handed-luxembourg",
   "metadata": {},
   "outputs": [],
   "source": [
    "import pandas as pd\n",
    "import numpy as np\n",
    "import matplotlib.pyplot as plt\n",
    "import seaborn as sb\n",
    "%matplotlib inline\n",
    "\n",
    "from sklearn.linear_model import LinearRegression\n",
    "from sklearn.model_selection import train_test_split\n",
    "from sklearn.metrics import r2_score, mean_squared_error\n",
    "\n",
    "from patsy import dmatrices\n",
    "import statsmodels.api as sm;\n",
    "from statsmodels.stats.outliers_influence import variance_inflation_factor"
   ]
  },
  {
   "cell_type": "code",
   "execution_count": 2,
   "id": "opponent-applicant",
   "metadata": {},
   "outputs": [
    {
     "name": "stdout",
     "output_type": "stream",
     "text": [
      "['Respondent', 'MainBranch', 'Hobbyist', 'Age', 'Age1stCode', 'CompFreq', 'CompTotal', 'ConvertedComp', 'Country', 'CurrencyDesc', 'CurrencySymbol', 'DatabaseDesireNextYear', 'DatabaseWorkedWith', 'DevType', 'EdLevel', 'Employment', 'Ethnicity', 'Gender', 'JobFactors', 'JobSat', 'JobSeek', 'LanguageDesireNextYear', 'LanguageWorkedWith', 'MiscTechDesireNextYear', 'MiscTechWorkedWith', 'NEWCollabToolsDesireNextYear', 'NEWCollabToolsWorkedWith', 'NEWDevOps', 'NEWDevOpsImpt', 'NEWEdImpt', 'NEWJobHunt', 'NEWJobHuntResearch', 'NEWLearn', 'NEWOffTopic', 'NEWOnboardGood', 'NEWOtherComms', 'NEWOvertime', 'NEWPurchaseResearch', 'NEWPurpleLink', 'NEWSOSites', 'NEWStuck', 'OpSys', 'OrgSize', 'PlatformDesireNextYear', 'PlatformWorkedWith', 'PurchaseWhat', 'Sexuality', 'SOAccount', 'SOComm', 'SOPartFreq', 'SOVisitFreq', 'SurveyEase', 'SurveyLength', 'Trans', 'UndergradMajor', 'WebframeDesireNextYear', 'WebframeWorkedWith', 'WelcomeChange', 'WorkWeekHrs', 'YearsCode', 'YearsCodePro']\n"
     ]
    }
   ],
   "source": [
    "df = pd.read_csv('survey_results_public.csv')\n",
    "schema = pd.read_csv('survey_results_schema.csv')\n",
    "print(df.columns.tolist())"
   ]
  },
  {
   "cell_type": "markdown",
   "id": "handmade-jones",
   "metadata": {},
   "source": [
    "## 2.- Assess"
   ]
  },
  {
   "cell_type": "code",
   "execution_count": 3,
   "id": "ruled-combining",
   "metadata": {},
   "outputs": [
    {
     "name": "stdout",
     "output_type": "stream",
     "text": [
      "<class 'pandas.core.frame.DataFrame'>\n",
      "RangeIndex: 64461 entries, 0 to 64460\n",
      "Data columns (total 61 columns):\n",
      " #   Column                        Non-Null Count  Dtype  \n",
      "---  ------                        --------------  -----  \n",
      " 0   Respondent                    64461 non-null  int64  \n",
      " 1   MainBranch                    64162 non-null  object \n",
      " 2   Hobbyist                      64416 non-null  object \n",
      " 3   Age                           45446 non-null  float64\n",
      " 4   Age1stCode                    57900 non-null  object \n",
      " 5   CompFreq                      40069 non-null  object \n",
      " 6   CompTotal                     34826 non-null  float64\n",
      " 7   ConvertedComp                 34756 non-null  float64\n",
      " 8   Country                       64072 non-null  object \n",
      " 9   CurrencyDesc                  45472 non-null  object \n",
      " 10  CurrencySymbol                45472 non-null  object \n",
      " 11  DatabaseDesireNextYear        44070 non-null  object \n",
      " 12  DatabaseWorkedWith            49537 non-null  object \n",
      " 13  DevType                       49370 non-null  object \n",
      " 14  EdLevel                       57431 non-null  object \n",
      " 15  Employment                    63854 non-null  object \n",
      " 16  Ethnicity                     45948 non-null  object \n",
      " 17  Gender                        50557 non-null  object \n",
      " 18  JobFactors                    49349 non-null  object \n",
      " 19  JobSat                        45194 non-null  object \n",
      " 20  JobSeek                       51727 non-null  object \n",
      " 21  LanguageDesireNextYear        54113 non-null  object \n",
      " 22  LanguageWorkedWith            57378 non-null  object \n",
      " 23  MiscTechDesireNextYear        42379 non-null  object \n",
      " 24  MiscTechWorkedWith            40314 non-null  object \n",
      " 25  NEWCollabToolsDesireNextYear  47287 non-null  object \n",
      " 26  NEWCollabToolsWorkedWith      52883 non-null  object \n",
      " 27  NEWDevOps                     42686 non-null  object \n",
      " 28  NEWDevOpsImpt                 41732 non-null  object \n",
      " 29  NEWEdImpt                     48465 non-null  object \n",
      " 30  NEWJobHunt                    42286 non-null  object \n",
      " 31  NEWJobHuntResearch            41022 non-null  object \n",
      " 32  NEWLearn                      56156 non-null  object \n",
      " 33  NEWOffTopic                   50804 non-null  object \n",
      " 34  NEWOnboardGood                42623 non-null  object \n",
      " 35  NEWOtherComms                 57205 non-null  object \n",
      " 36  NEWOvertime                   43231 non-null  object \n",
      " 37  NEWPurchaseResearch           37321 non-null  object \n",
      " 38  NEWPurpleLink                 54803 non-null  object \n",
      " 39  NEWSOSites                    58275 non-null  object \n",
      " 40  NEWStuck                      54983 non-null  object \n",
      " 41  OpSys                         56228 non-null  object \n",
      " 42  OrgSize                       44334 non-null  object \n",
      " 43  PlatformDesireNextYear        50605 non-null  object \n",
      " 44  PlatformWorkedWith            53843 non-null  object \n",
      " 45  PurchaseWhat                  39364 non-null  object \n",
      " 46  Sexuality                     43992 non-null  object \n",
      " 47  SOAccount                     56805 non-null  object \n",
      " 48  SOComm                        56476 non-null  object \n",
      " 49  SOPartFreq                    46792 non-null  object \n",
      " 50  SOVisitFreq                   56970 non-null  object \n",
      " 51  SurveyEase                    51802 non-null  object \n",
      " 52  SurveyLength                  51701 non-null  object \n",
      " 53  Trans                         49345 non-null  object \n",
      " 54  UndergradMajor                50995 non-null  object \n",
      " 55  WebframeDesireNextYear        40024 non-null  object \n",
      " 56  WebframeWorkedWith            42279 non-null  object \n",
      " 57  WelcomeChange                 52683 non-null  object \n",
      " 58  WorkWeekHrs                   41151 non-null  float64\n",
      " 59  YearsCode                     57684 non-null  object \n",
      " 60  YearsCodePro                  46349 non-null  object \n",
      "dtypes: float64(4), int64(1), object(56)\n",
      "memory usage: 30.0+ MB\n"
     ]
    }
   ],
   "source": [
    "df.info()"
   ]
  },
  {
   "cell_type": "code",
   "execution_count": 4,
   "id": "stone-macedonia",
   "metadata": {},
   "outputs": [
    {
     "data": {
      "text/html": [
       "<div>\n",
       "<style scoped>\n",
       "    .dataframe tbody tr th:only-of-type {\n",
       "        vertical-align: middle;\n",
       "    }\n",
       "\n",
       "    .dataframe tbody tr th {\n",
       "        vertical-align: top;\n",
       "    }\n",
       "\n",
       "    .dataframe thead th {\n",
       "        text-align: right;\n",
       "    }\n",
       "</style>\n",
       "<table border=\"1\" class=\"dataframe\">\n",
       "  <thead>\n",
       "    <tr style=\"text-align: right;\">\n",
       "      <th></th>\n",
       "      <th>Respondent</th>\n",
       "      <th>MainBranch</th>\n",
       "      <th>Hobbyist</th>\n",
       "      <th>Age</th>\n",
       "      <th>Age1stCode</th>\n",
       "      <th>CompFreq</th>\n",
       "      <th>CompTotal</th>\n",
       "      <th>ConvertedComp</th>\n",
       "      <th>Country</th>\n",
       "      <th>CurrencyDesc</th>\n",
       "      <th>...</th>\n",
       "      <th>SurveyEase</th>\n",
       "      <th>SurveyLength</th>\n",
       "      <th>Trans</th>\n",
       "      <th>UndergradMajor</th>\n",
       "      <th>WebframeDesireNextYear</th>\n",
       "      <th>WebframeWorkedWith</th>\n",
       "      <th>WelcomeChange</th>\n",
       "      <th>WorkWeekHrs</th>\n",
       "      <th>YearsCode</th>\n",
       "      <th>YearsCodePro</th>\n",
       "    </tr>\n",
       "  </thead>\n",
       "  <tbody>\n",
       "    <tr>\n",
       "      <th>0</th>\n",
       "      <td>1</td>\n",
       "      <td>I am a developer by profession</td>\n",
       "      <td>Yes</td>\n",
       "      <td>NaN</td>\n",
       "      <td>13</td>\n",
       "      <td>Monthly</td>\n",
       "      <td>NaN</td>\n",
       "      <td>NaN</td>\n",
       "      <td>Germany</td>\n",
       "      <td>European Euro</td>\n",
       "      <td>...</td>\n",
       "      <td>Neither easy nor difficult</td>\n",
       "      <td>Appropriate in length</td>\n",
       "      <td>No</td>\n",
       "      <td>Computer science, computer engineering, or sof...</td>\n",
       "      <td>ASP.NET Core</td>\n",
       "      <td>ASP.NET;ASP.NET Core</td>\n",
       "      <td>Just as welcome now as I felt last year</td>\n",
       "      <td>50.0</td>\n",
       "      <td>36</td>\n",
       "      <td>27</td>\n",
       "    </tr>\n",
       "    <tr>\n",
       "      <th>1</th>\n",
       "      <td>2</td>\n",
       "      <td>I am a developer by profession</td>\n",
       "      <td>No</td>\n",
       "      <td>NaN</td>\n",
       "      <td>19</td>\n",
       "      <td>NaN</td>\n",
       "      <td>NaN</td>\n",
       "      <td>NaN</td>\n",
       "      <td>United Kingdom</td>\n",
       "      <td>Pound sterling</td>\n",
       "      <td>...</td>\n",
       "      <td>NaN</td>\n",
       "      <td>NaN</td>\n",
       "      <td>NaN</td>\n",
       "      <td>Computer science, computer engineering, or sof...</td>\n",
       "      <td>NaN</td>\n",
       "      <td>NaN</td>\n",
       "      <td>Somewhat more welcome now than last year</td>\n",
       "      <td>NaN</td>\n",
       "      <td>7</td>\n",
       "      <td>4</td>\n",
       "    </tr>\n",
       "    <tr>\n",
       "      <th>2</th>\n",
       "      <td>3</td>\n",
       "      <td>I code primarily as a hobby</td>\n",
       "      <td>Yes</td>\n",
       "      <td>NaN</td>\n",
       "      <td>15</td>\n",
       "      <td>NaN</td>\n",
       "      <td>NaN</td>\n",
       "      <td>NaN</td>\n",
       "      <td>Russian Federation</td>\n",
       "      <td>NaN</td>\n",
       "      <td>...</td>\n",
       "      <td>Neither easy nor difficult</td>\n",
       "      <td>Appropriate in length</td>\n",
       "      <td>NaN</td>\n",
       "      <td>NaN</td>\n",
       "      <td>NaN</td>\n",
       "      <td>NaN</td>\n",
       "      <td>Somewhat more welcome now than last year</td>\n",
       "      <td>NaN</td>\n",
       "      <td>4</td>\n",
       "      <td>NaN</td>\n",
       "    </tr>\n",
       "    <tr>\n",
       "      <th>3</th>\n",
       "      <td>4</td>\n",
       "      <td>I am a developer by profession</td>\n",
       "      <td>Yes</td>\n",
       "      <td>25.0</td>\n",
       "      <td>18</td>\n",
       "      <td>NaN</td>\n",
       "      <td>NaN</td>\n",
       "      <td>NaN</td>\n",
       "      <td>Albania</td>\n",
       "      <td>Albanian lek</td>\n",
       "      <td>...</td>\n",
       "      <td>NaN</td>\n",
       "      <td>NaN</td>\n",
       "      <td>No</td>\n",
       "      <td>Computer science, computer engineering, or sof...</td>\n",
       "      <td>NaN</td>\n",
       "      <td>NaN</td>\n",
       "      <td>Somewhat less welcome now than last year</td>\n",
       "      <td>40.0</td>\n",
       "      <td>7</td>\n",
       "      <td>4</td>\n",
       "    </tr>\n",
       "    <tr>\n",
       "      <th>4</th>\n",
       "      <td>5</td>\n",
       "      <td>I used to be a developer by profession, but no...</td>\n",
       "      <td>Yes</td>\n",
       "      <td>31.0</td>\n",
       "      <td>16</td>\n",
       "      <td>NaN</td>\n",
       "      <td>NaN</td>\n",
       "      <td>NaN</td>\n",
       "      <td>United States</td>\n",
       "      <td>NaN</td>\n",
       "      <td>...</td>\n",
       "      <td>Easy</td>\n",
       "      <td>Too short</td>\n",
       "      <td>No</td>\n",
       "      <td>Computer science, computer engineering, or sof...</td>\n",
       "      <td>Django;Ruby on Rails</td>\n",
       "      <td>Ruby on Rails</td>\n",
       "      <td>Just as welcome now as I felt last year</td>\n",
       "      <td>NaN</td>\n",
       "      <td>15</td>\n",
       "      <td>8</td>\n",
       "    </tr>\n",
       "  </tbody>\n",
       "</table>\n",
       "<p>5 rows × 61 columns</p>\n",
       "</div>"
      ],
      "text/plain": [
       "   Respondent                                         MainBranch Hobbyist  \\\n",
       "0           1                     I am a developer by profession      Yes   \n",
       "1           2                     I am a developer by profession       No   \n",
       "2           3                        I code primarily as a hobby      Yes   \n",
       "3           4                     I am a developer by profession      Yes   \n",
       "4           5  I used to be a developer by profession, but no...      Yes   \n",
       "\n",
       "    Age Age1stCode CompFreq  CompTotal  ConvertedComp             Country  \\\n",
       "0   NaN         13  Monthly        NaN            NaN             Germany   \n",
       "1   NaN         19      NaN        NaN            NaN      United Kingdom   \n",
       "2   NaN         15      NaN        NaN            NaN  Russian Federation   \n",
       "3  25.0         18      NaN        NaN            NaN             Albania   \n",
       "4  31.0         16      NaN        NaN            NaN       United States   \n",
       "\n",
       "     CurrencyDesc  ...                  SurveyEase           SurveyLength  \\\n",
       "0   European Euro  ...  Neither easy nor difficult  Appropriate in length   \n",
       "1  Pound sterling  ...                         NaN                    NaN   \n",
       "2             NaN  ...  Neither easy nor difficult  Appropriate in length   \n",
       "3    Albanian lek  ...                         NaN                    NaN   \n",
       "4             NaN  ...                        Easy              Too short   \n",
       "\n",
       "  Trans                                     UndergradMajor  \\\n",
       "0    No  Computer science, computer engineering, or sof...   \n",
       "1   NaN  Computer science, computer engineering, or sof...   \n",
       "2   NaN                                                NaN   \n",
       "3    No  Computer science, computer engineering, or sof...   \n",
       "4    No  Computer science, computer engineering, or sof...   \n",
       "\n",
       "  WebframeDesireNextYear    WebframeWorkedWith  \\\n",
       "0           ASP.NET Core  ASP.NET;ASP.NET Core   \n",
       "1                    NaN                   NaN   \n",
       "2                    NaN                   NaN   \n",
       "3                    NaN                   NaN   \n",
       "4   Django;Ruby on Rails         Ruby on Rails   \n",
       "\n",
       "                              WelcomeChange WorkWeekHrs YearsCode YearsCodePro  \n",
       "0   Just as welcome now as I felt last year        50.0        36           27  \n",
       "1  Somewhat more welcome now than last year         NaN         7            4  \n",
       "2  Somewhat more welcome now than last year         NaN         4          NaN  \n",
       "3  Somewhat less welcome now than last year        40.0         7            4  \n",
       "4   Just as welcome now as I felt last year         NaN        15            8  \n",
       "\n",
       "[5 rows x 61 columns]"
      ]
     },
     "execution_count": 4,
     "metadata": {},
     "output_type": "execute_result"
    }
   ],
   "source": [
    "df.head()"
   ]
  },
  {
   "cell_type": "code",
   "execution_count": 5,
   "id": "thrown-cancer",
   "metadata": {},
   "outputs": [],
   "source": [
    "def get_description_and_unique (col_name, schema = schema):\n",
    "    \n",
    "    '''\n",
    "    Gives the description of a column and its unique values\n",
    "    '''\n",
    "\n",
    "    description = list(schema[schema['Column'] == col_name]['QuestionText'])[0]\n",
    "    unique_values = df[col_name].unique()\n",
    "    return description, unique_values"
   ]
  },
  {
   "cell_type": "code",
   "execution_count": 6,
   "id": "unlike-vessel",
   "metadata": {},
   "outputs": [
    {
     "data": {
      "text/plain": [
       "('Salary converted to annual USD salaries using the exchange rate on 2020-02-19, assuming 12 working months and 50 working weeks.',\n",
       " array([    nan, 116000.,  32315., ...,    369.,    200.,  38759.]))"
      ]
     },
     "execution_count": 6,
     "metadata": {},
     "output_type": "execute_result"
    }
   ],
   "source": [
    "get_description_and_unique('ConvertedComp')"
   ]
  },
  {
   "cell_type": "code",
   "execution_count": 7,
   "id": "advance-nylon",
   "metadata": {},
   "outputs": [],
   "source": [
    "def miss_data(df):\n",
    "    \n",
    "    '''\n",
    "    This function gives the amount of missing data, percentage and  absolute value, of a dataset by column.\n",
    "    '''\n",
    "    missing_data = pd.DataFrame(columns = ['column_name','missing_data', 'missing_in_percentage'])\n",
    "    columns = df.columns\n",
    "    for col in columns:\n",
    "        missing_sum = df[col].isnull().sum()\n",
    "        missing_percentage = (df[col].isnull().mean())*100     \n",
    "        missing_data.loc[len(missing_data)] = [col, missing_sum, missing_percentage]\n",
    "    print(missing_data) "
   ]
  },
  {
   "cell_type": "markdown",
   "id": "alive-softball",
   "metadata": {},
   "source": [
    "## 3.- Clean"
   ]
  },
  {
   "cell_type": "code",
   "execution_count": 8,
   "id": "banned-royalty",
   "metadata": {},
   "outputs": [],
   "source": [
    "#Convert JobSat and YearsCode to numeric\n",
    "scale_mapper = {'Very dissatisfied':1, 'Slightly dissatisfied':2, 'Neither satisfied nor dissatisfied':3,\n",
    "               'Slightly satisfied':4, 'Very satisfied':5}\n",
    "df['JobSat'] = df['JobSat'].replace(scale_mapper)\n",
    "\n",
    "df.loc[df.YearsCode == 'Less than 1 year', 'YearsCode'] = 0.5\n",
    "df.loc[df.YearsCode == 'More than 50 years', 'YearsCode'] = 50.5\n",
    "df['YearsCode'] = df['YearsCode'].astype(float)"
   ]
  },
  {
   "cell_type": "code",
   "execution_count": 9,
   "id": "wrapped-saturn",
   "metadata": {},
   "outputs": [],
   "source": [
    "#Chosen numeric variables\n",
    "df_selection = df[['YearsCode', 'Age', 'ConvertedComp', 'JobSat', 'WorkWeekHrs' ]]"
   ]
  },
  {
   "cell_type": "code",
   "execution_count": 10,
   "id": "perceived-crime",
   "metadata": {},
   "outputs": [
    {
     "name": "stdout",
     "output_type": "stream",
     "text": [
      "     column_name missing_data  missing_in_percentage\n",
      "0      YearsCode         6777              10.513334\n",
      "1            Age        19015              29.498456\n",
      "2  ConvertedComp        29705              46.082127\n",
      "3         JobSat        19267              29.889390\n",
      "4    WorkWeekHrs        23310              36.161400\n"
     ]
    }
   ],
   "source": [
    "miss_data(df_selection)"
   ]
  },
  {
   "cell_type": "markdown",
   "id": "wrong-congress",
   "metadata": {},
   "source": [
    "### 3.1.- Work with Nan values"
   ]
  },
  {
   "cell_type": "code",
   "execution_count": 11,
   "id": "personalized-lesbian",
   "metadata": {},
   "outputs": [],
   "source": [
    "#As the variables in df_selection are all numeric and the linear regression function does not accept Nan values\n",
    "#let's try to fill the missing values with the mean to have a a bigger dataset\n",
    "fill_mean = lambda col: col.fillna(col.mean())"
   ]
  },
  {
   "cell_type": "code",
   "execution_count": 12,
   "id": "freelance-technology",
   "metadata": {},
   "outputs": [],
   "source": [
    "#Since I need to predict the salary I cannot fill the mean of the predictor as it would damage the efficiency of the model\n",
    "#Therefore I am going to drop all rows with a Nan Salary\n",
    "df_selection = df_selection.dropna(subset = ['ConvertedComp'], axis=0)"
   ]
  },
  {
   "cell_type": "code",
   "execution_count": 13,
   "id": "comprehensive-jersey",
   "metadata": {},
   "outputs": [],
   "source": [
    "#Fill the Nan values with the mean of the column\n",
    "num_vars = df_selection.select_dtypes(include=['float', 'int']).columns\n",
    "for col in num_vars:\n",
    "    df_selection[col] = df_selection[[col]].apply(fill_mean)"
   ]
  },
  {
   "cell_type": "markdown",
   "id": "physical-tonight",
   "metadata": {},
   "source": [
    "### 3.2.- Work with categorical variables"
   ]
  },
  {
   "cell_type": "code",
   "execution_count": 14,
   "id": "ruled-justice",
   "metadata": {},
   "outputs": [],
   "source": [
    "def dummy_array(df, col_list):\n",
    "    '''\n",
    "    The columns in col_list must have each observation as an array with the elements separated by ';' \n",
    "    It creates dummy columns for each variable in col_list and removes the original column.\n",
    "    '''\n",
    "\n",
    "    #Create a dummy variable for each language or devtype\n",
    "    for item in col_list:\n",
    "        split = df[item].str.strip('[]').str.split('\\s*;')\n",
    "        dummy = (split.explode().str.get_dummies().sum(level=0).add_prefix(item + '_'))\n",
    "        df = df.drop([item], 1).join([dummy])\n",
    "    \n",
    "    return df"
   ]
  },
  {
   "cell_type": "code",
   "execution_count": 15,
   "id": "republican-difficulty",
   "metadata": {},
   "outputs": [],
   "source": [
    "def create_dummy_df(df, cat_cols):\n",
    "    '''\n",
    "    This function receives a dataframe and a list of the categorical columns you want to dummy.\n",
    "    It returns a dataframe without the original columns you wanted to dummy and creates dummy columns for each variable\n",
    "    '''\n",
    "    for col in  cat_cols:\n",
    "        try:\n",
    "            # for each cat add dummy var, drop original column\n",
    "            df = pd.concat([df.drop(col, axis=1), pd.get_dummies(df[col], prefix=col, prefix_sep='_', drop_first=True)], axis=1)\n",
    "        except:\n",
    "            continue\n",
    "    return df"
   ]
  },
  {
   "cell_type": "code",
   "execution_count": 16,
   "id": "impressed-frank",
   "metadata": {},
   "outputs": [],
   "source": [
    "def clean_data_regression(df, response_var, array_cat_list, sum_reduce):\n",
    "    \n",
    "    '''\n",
    "    This function receives the dataframe you want to clean, the response variable that you want to predict,\n",
    "    a list of categorical columns that are array-like and the factor in which you want to reduce the X matrix \n",
    "    for the regression.\n",
    "    \n",
    "    It returns the cleaned and reduced 'X' matrix and 'y' vector ready for the regression.\n",
    "    \n",
    "    \n",
    "    '''\n",
    "    \n",
    "    #Drop the rows with missing values in the response_var column\n",
    "    df = df.dropna(subset = [response_var], axis=0)\n",
    "    y = df[response_var]\n",
    "    \n",
    "    #Drop the response_var column from the dataframe\n",
    "    df = df.drop([response_var, 'CompTotal', 'Respondent'], axis = 1)\n",
    "    \n",
    "    #Fill numeric columns with mean and categorical columns with mode\n",
    "    num_vars = df.select_dtypes(include=['float', 'int']).columns\n",
    "    for col in num_vars:\n",
    "        df[col] = df[[col]].apply(fill_mean)\n",
    "    \n",
    "    #Dummy array-variables\n",
    "    df = dummy_array(df, array_cat_list)    \n",
    "    \n",
    "    #Categorical values list\n",
    "    cat_vars = (df.select_dtypes(include=['object'])).columns\n",
    "\n",
    "    #Dummy normal categorical values\n",
    "    df = create_dummy_df(df, cat_vars) \n",
    "    \n",
    "    #Remove columns with any Nan\n",
    "    df = df.dropna(axis=1, how='any')\n",
    "    \n",
    "    X = df.iloc[:, np.where((df.sum() > sum_reduce) == True)[0]]\n",
    "    \n",
    "    return X, y"
   ]
  },
  {
   "cell_type": "markdown",
   "id": "spiritual-foster",
   "metadata": {},
   "source": [
    "## 4.- Analyze"
   ]
  },
  {
   "cell_type": "code",
   "execution_count": 17,
   "id": "forward-identity",
   "metadata": {},
   "outputs": [
    {
     "data": {
      "image/png": "[encoded data removed]",
      "text/plain": [
       "<Figure size 841.68x595.44 with 2 Axes>"
      ]
     },
     "metadata": {
      "needs_background": "light"
     },
     "output_type": "display_data"
    }
   ],
   "source": [
    "plt.figure(figsize = [11.69, 8.27])\n",
    "sb.heatmap(df.corr(), annot = True, fmt = '.2f', cmap = 'vlag_r', center = 0)\n",
    "plt.show()"
   ]
  },
  {
   "cell_type": "markdown",
   "id": "polished-astrology",
   "metadata": {},
   "source": [
    "Most of the variables haven't a great correlation with the Salary ('ConvertedComp') but anyway I am going to continue with the regression and try to predict the best I can"
   ]
  },
  {
   "cell_type": "code",
   "execution_count": 42,
   "id": "continent-security",
   "metadata": {},
   "outputs": [
    {
     "data": {
      "image/png": "[encoded data removed]",
      "text/plain": [
       "<Figure size 432x288 with 9 Axes>"
      ]
     },
     "metadata": {
      "needs_background": "light"
     },
     "output_type": "display_data"
    }
   ],
   "source": [
    "#Check distributions of the variables\n",
    "df.hist();"
   ]
  },
  {
   "cell_type": "markdown",
   "id": "civil-camel",
   "metadata": {},
   "source": [
    "## 5.- Model"
   ]
  },
  {
   "cell_type": "markdown",
   "id": "insured-interest",
   "metadata": {},
   "source": [
    "### 5.1.- Regression 1"
   ]
  },
  {
   "cell_type": "code",
   "execution_count": 19,
   "id": "amateur-young",
   "metadata": {},
   "outputs": [],
   "source": [
    "y = df_selection['ConvertedComp']\n",
    "X = df_selection[['YearsCode', 'Age', 'JobSat', 'WorkWeekHrs' ]]"
   ]
  },
  {
   "cell_type": "code",
   "execution_count": 20,
   "id": "traditional-administration",
   "metadata": {},
   "outputs": [
    {
     "data": {
      "text/plain": [
       "(34756, 4)"
      ]
     },
     "execution_count": 20,
     "metadata": {},
     "output_type": "execute_result"
    }
   ],
   "source": [
    "X.shape"
   ]
  },
  {
   "cell_type": "code",
   "execution_count": 21,
   "id": "suspected-purpose",
   "metadata": {},
   "outputs": [
    {
     "name": "stdout",
     "output_type": "stream",
     "text": [
      "0.014250298029528596\n",
      "45316900198.21145\n"
     ]
    }
   ],
   "source": [
    "# Split the data\n",
    "X_train, X_test, y_train, y_test = train_test_split(X, y, test_size = .30, random_state=42)\n",
    "\n",
    "#Instantiate\n",
    "lm_model = LinearRegression(normalize=True);\n",
    "\n",
    "#Fit\n",
    "lm_model.fit(X_train, y_train)\n",
    "\n",
    "#Predict\n",
    "y_test_preds = lm_model.predict(X_test)\n",
    "\n",
    "#Print R2 score and MSE\n",
    "print(r2_score(y_test, y_test_preds))\n",
    "print(mean_squared_error(y_test, y_test_preds))"
   ]
  },
  {
   "cell_type": "markdown",
   "id": "green-cargo",
   "metadata": {},
   "source": [
    "The prediction is very poor. I'm going to try to add the categorical values and dummy then."
   ]
  },
  {
   "cell_type": "markdown",
   "id": "dangerous-syracuse",
   "metadata": {},
   "source": [
    "### 5.2.- Regression 2"
   ]
  },
  {
   "cell_type": "code",
   "execution_count": 22,
   "id": "flexible-uncertainty",
   "metadata": {},
   "outputs": [],
   "source": [
    "#Column list with categorical values with array structure\n",
    "list_like_var = ['DevType', 'LanguageWorkedWith']"
   ]
  },
  {
   "cell_type": "code",
   "execution_count": 23,
   "id": "liable-attack",
   "metadata": {},
   "outputs": [],
   "source": [
    "X2, y2 = clean_data_regression(df, 'ConvertedComp',list_like_var, 200)"
   ]
  },
  {
   "cell_type": "code",
   "execution_count": 24,
   "id": "solved-conviction",
   "metadata": {},
   "outputs": [
    {
     "data": {
      "text/plain": [
       "(34756, 683)"
      ]
     },
     "execution_count": 24,
     "metadata": {},
     "output_type": "execute_result"
    }
   ],
   "source": [
    "X2.shape"
   ]
  },
  {
   "cell_type": "code",
   "execution_count": 25,
   "id": "immune-captain",
   "metadata": {},
   "outputs": [
    {
     "name": "stdout",
     "output_type": "stream",
     "text": [
      "0.24365424730646934\n",
      "34770738374.70009\n"
     ]
    }
   ],
   "source": [
    "# Split the data\n",
    "X_train, X_test, y_train, y_test = train_test_split(X2, y2, test_size = .30, random_state=42)\n",
    "\n",
    "#Instantiate\n",
    "lm_model = LinearRegression(normalize=True);\n",
    "\n",
    "#Fit\n",
    "lm_model.fit(X_train, y_train)\n",
    "\n",
    "#Predict\n",
    "y_test_preds = lm_model.predict(X_test)\n",
    "\n",
    "#Print R2 score and MSE of the test data\n",
    "print(r2_score(y_test, y_test_preds))\n",
    "print(mean_squared_error(y_test, y_test_preds))"
   ]
  },
  {
   "cell_type": "code",
   "execution_count": 26,
   "id": "stupid-testimony",
   "metadata": {},
   "outputs": [
    {
     "name": "stdout",
     "output_type": "stream",
     "text": [
      "0.31895409457225654\n",
      "36654497580.19782\n"
     ]
    }
   ],
   "source": [
    "#Print R2 score and MSE of the train data\n",
    "print(r2_score(y_train, lm_model.predict(X_train))) \n",
    "print(mean_squared_error(y_train, lm_model.predict(X_train)))"
   ]
  },
  {
   "cell_type": "code",
   "execution_count": 27,
   "id": "rapid-theme",
   "metadata": {},
   "outputs": [],
   "source": [
    "def find_optimal_lm_mod(X, y, cutoffs, test_size = .30, random_state=42, plot=True):\n",
    "    '''\n",
    "    This function is taken from the Udacity's Data Scientist Nanodegree\n",
    "    \n",
    "    INPUT\n",
    "    X - pandas dataframe, X matrix\n",
    "    y - pandas dataframe, response variable\n",
    "    cutoffs - list of ints, cutoff for number of non-zero values in dummy categorical vars\n",
    "    test_size - float between 0 and 1, default 0.3, determines the proportion of data as test data\n",
    "    random_state - int, default 42, controls random state for train_test_split\n",
    "    plot - boolean, default 0.3, True to plot result\n",
    "\n",
    "    OUTPUT\n",
    "    r2_scores_test - list of floats of r2 scores on the test data\n",
    "    r2_scores_train - list of floats of r2 scores on the train data\n",
    "    lm_model - model object from sklearn\n",
    "    X_train, X_test, y_train, y_test - output from sklearn train test split used for optimal model\n",
    "    '''\n",
    "    r2_scores_test, r2_scores_train, num_feats, results = [], [], [], dict()\n",
    "    for cutoff in cutoffs:\n",
    "\n",
    "        #reduce X matrix\n",
    "        reduce_X = X.iloc[:, np.where((X.sum() > cutoff) == True)[0]]\n",
    "        num_feats.append(reduce_X.shape[1])\n",
    "\n",
    "        #split the data into train and test\n",
    "        X_train, X_test, y_train, y_test = train_test_split(reduce_X, y, test_size = test_size, random_state=random_state)\n",
    "\n",
    "        #fit the model and obtain pred response\n",
    "        lm_model = LinearRegression(normalize=True)\n",
    "        lm_model.fit(X_train, y_train)\n",
    "        y_test_preds = lm_model.predict(X_test)\n",
    "        y_train_preds = lm_model.predict(X_train)\n",
    "\n",
    "        #append the r2 value from the test set\n",
    "        r2_scores_test.append(r2_score(y_test, y_test_preds))\n",
    "        r2_scores_train.append(r2_score(y_train, y_train_preds))\n",
    "        results[str(cutoff)] = r2_score(y_test, y_test_preds)\n",
    "\n",
    "    if plot:\n",
    "        plt.plot(num_feats, r2_scores_test, label=\"Test\", alpha=.5)\n",
    "        plt.plot(num_feats, r2_scores_train, label=\"Train\", alpha=.5)\n",
    "        plt.xlabel('Number of Features')\n",
    "        plt.ylabel('Rsquared')\n",
    "        plt.title('Rsquared by Number of Features')\n",
    "        plt.legend(loc=1)\n",
    "        plt.show()\n",
    "\n",
    "    best_cutoff = max(results, key=results.get)\n",
    "\n",
    "    #reduce X matrix\n",
    "    reduce_X = X.iloc[:, np.where((X.sum() > int(best_cutoff)) == True)[0]]\n",
    "    num_feats.append(reduce_X.shape[1])\n",
    "\n",
    "    #split the data into train and test\n",
    "    X_train, X_test, y_train, y_test = train_test_split(reduce_X, y, test_size = test_size, random_state=random_state)\n",
    "\n",
    "    #fit the model\n",
    "    lm_model = LinearRegression(normalize=True)\n",
    "    lm_model.fit(X_train, y_train)\n",
    "\n",
    "    return r2_scores_test, r2_scores_train, lm_model, X_train, X_test, y_train, y_test"
   ]
  },
  {
   "cell_type": "code",
   "execution_count": 28,
   "id": "phantom-hindu",
   "metadata": {},
   "outputs": [
    {
     "data": {
      "image/png": "[encoded data removed]",
      "text/plain": [
       "<Figure size 432x288 with 1 Axes>"
      ]
     },
     "metadata": {
      "needs_background": "light"
     },
     "output_type": "display_data"
    }
   ],
   "source": [
    "cutoffs = [5000, 3500, 2500, 1000, 100, 50, 30, 25]\n",
    "r2_scores_test, r2_scores_train, lm_model, X_train, X_test, y_train, y_test = find_optimal_lm_mod(X2, y2, cutoffs)"
   ]
  },
  {
   "cell_type": "markdown",
   "id": "streaming-worse",
   "metadata": {},
   "source": [
    "It seems that the predictions gets better with the number of features, let's try to increase them"
   ]
  },
  {
   "cell_type": "markdown",
   "id": "vocational-summary",
   "metadata": {},
   "source": [
    "### 5.3.- Regression 3"
   ]
  },
  {
   "cell_type": "code",
   "execution_count": 29,
   "id": "loved-siemens",
   "metadata": {},
   "outputs": [
    {
     "data": {
      "text/plain": [
       "(34756, 5083)"
      ]
     },
     "execution_count": 29,
     "metadata": {},
     "output_type": "execute_result"
    }
   ],
   "source": [
    "X3, y3 = clean_data_regression(df, 'ConvertedComp',list_like_var, 10)\n",
    "X3.shape"
   ]
  },
  {
   "cell_type": "code",
   "execution_count": 30,
   "id": "twelve-calculation",
   "metadata": {},
   "outputs": [
    {
     "name": "stdout",
     "output_type": "stream",
     "text": [
      "0.05376273208616322\n",
      "43500433982.5447\n"
     ]
    }
   ],
   "source": [
    "# Split the data\n",
    "X_train, X_test, y_train, y_test = train_test_split(X3, y3, test_size = .30, random_state=42)\n",
    "\n",
    "#Instantiate\n",
    "lm_model = LinearRegression(normalize=True);\n",
    "\n",
    "#Fit\n",
    "lm_model.fit(X_train, y_train)\n",
    "\n",
    "#Predict\n",
    "y_test_preds = lm_model.predict(X_test)\n",
    "\n",
    "#Print R2 score and MSE of the test data\n",
    "print(r2_score(y_test, y_test_preds))\n",
    "print(mean_squared_error(y_test, y_test_preds))"
   ]
  },
  {
   "cell_type": "code",
   "execution_count": 31,
   "id": "sized-silicon",
   "metadata": {},
   "outputs": [
    {
     "data": {
      "image/png": "[encoded data removed]",
      "text/plain": [
       "<Figure size 432x288 with 1 Axes>"
      ]
     },
     "metadata": {
      "needs_background": "light"
     },
     "output_type": "display_data"
    }
   ],
   "source": [
    "cutoffs = [5000, 3500, 2500, 1000, 100, 50, 30, 25]\n",
    "r2_scores_test, r2_scores_train, lm_model, X_train, X_test, y_train, y_test = find_optimal_lm_mod(X3, y3, cutoffs)"
   ]
  },
  {
   "cell_type": "code",
   "execution_count": 32,
   "id": "posted-lebanon",
   "metadata": {},
   "outputs": [
    {
     "data": {
      "text/html": [
       "<div>\n",
       "<style scoped>\n",
       "    .dataframe tbody tr th:only-of-type {\n",
       "        vertical-align: middle;\n",
       "    }\n",
       "\n",
       "    .dataframe tbody tr th {\n",
       "        vertical-align: top;\n",
       "    }\n",
       "\n",
       "    .dataframe thead th {\n",
       "        text-align: right;\n",
       "    }\n",
       "</style>\n",
       "<table border=\"1\" class=\"dataframe\">\n",
       "  <thead>\n",
       "    <tr style=\"text-align: right;\">\n",
       "      <th></th>\n",
       "      <th>Variable</th>\n",
       "      <th>Coefficient</th>\n",
       "      <th>Absolute Coefficient</th>\n",
       "    </tr>\n",
       "  </thead>\n",
       "  <tbody>\n",
       "    <tr>\n",
       "      <th>147</th>\n",
       "      <td>CurrencyDesc_Indonesian rupiah</td>\n",
       "      <td>1.030128e+19</td>\n",
       "      <td>1.030128e+19</td>\n",
       "    </tr>\n",
       "    <tr>\n",
       "      <th>169</th>\n",
       "      <td>CurrencySymbol_ARS</td>\n",
       "      <td>9.166949e+18</td>\n",
       "      <td>9.166949e+18</td>\n",
       "    </tr>\n",
       "    <tr>\n",
       "      <th>136</th>\n",
       "      <td>CurrencyDesc_Bangladeshi taka</td>\n",
       "      <td>6.308620e+18</td>\n",
       "      <td>6.308620e+18</td>\n",
       "    </tr>\n",
       "    <tr>\n",
       "      <th>188</th>\n",
       "      <td>CurrencySymbol_KRW</td>\n",
       "      <td>6.228299e+18</td>\n",
       "      <td>6.228299e+18</td>\n",
       "    </tr>\n",
       "    <tr>\n",
       "      <th>140</th>\n",
       "      <td>CurrencyDesc_Colombian peso</td>\n",
       "      <td>5.311375e+18</td>\n",
       "      <td>5.311375e+18</td>\n",
       "    </tr>\n",
       "    <tr>\n",
       "      <th>154</th>\n",
       "      <td>CurrencyDesc_Norwegian krone</td>\n",
       "      <td>4.830811e+18</td>\n",
       "      <td>4.830811e+18</td>\n",
       "    </tr>\n",
       "    <tr>\n",
       "      <th>167</th>\n",
       "      <td>CurrencyDesc_Ukrainian hryvnia</td>\n",
       "      <td>4.786747e+18</td>\n",
       "      <td>4.786747e+18</td>\n",
       "    </tr>\n",
       "    <tr>\n",
       "      <th>148</th>\n",
       "      <td>CurrencyDesc_Iranian rial</td>\n",
       "      <td>4.635893e+18</td>\n",
       "      <td>4.635893e+18</td>\n",
       "    </tr>\n",
       "    <tr>\n",
       "      <th>170</th>\n",
       "      <td>CurrencySymbol_AUD</td>\n",
       "      <td>4.353186e+18</td>\n",
       "      <td>4.353186e+18</td>\n",
       "    </tr>\n",
       "    <tr>\n",
       "      <th>142</th>\n",
       "      <td>CurrencyDesc_Czech koruna</td>\n",
       "      <td>4.005636e+18</td>\n",
       "      <td>4.005636e+18</td>\n",
       "    </tr>\n",
       "    <tr>\n",
       "      <th>152</th>\n",
       "      <td>CurrencyDesc_New Zealand dollar</td>\n",
       "      <td>3.899265e+18</td>\n",
       "      <td>3.899265e+18</td>\n",
       "    </tr>\n",
       "    <tr>\n",
       "      <th>159</th>\n",
       "      <td>CurrencyDesc_Romanian leu</td>\n",
       "      <td>3.827168e+18</td>\n",
       "      <td>3.827168e+18</td>\n",
       "    </tr>\n",
       "    <tr>\n",
       "      <th>184</th>\n",
       "      <td>CurrencySymbol_ILS</td>\n",
       "      <td>3.222032e+18</td>\n",
       "      <td>3.222032e+18</td>\n",
       "    </tr>\n",
       "    <tr>\n",
       "      <th>145</th>\n",
       "      <td>CurrencyDesc_Hungarian forint</td>\n",
       "      <td>2.984554e+18</td>\n",
       "      <td>2.984554e+18</td>\n",
       "    </tr>\n",
       "    <tr>\n",
       "      <th>197</th>\n",
       "      <td>CurrencySymbol_RUB</td>\n",
       "      <td>2.747562e+18</td>\n",
       "      <td>2.747562e+18</td>\n",
       "    </tr>\n",
       "    <tr>\n",
       "      <th>187</th>\n",
       "      <td>CurrencySymbol_JPY</td>\n",
       "      <td>2.736421e+18</td>\n",
       "      <td>2.736421e+18</td>\n",
       "    </tr>\n",
       "    <tr>\n",
       "      <th>193</th>\n",
       "      <td>CurrencySymbol_PHP</td>\n",
       "      <td>2.385614e+18</td>\n",
       "      <td>2.385614e+18</td>\n",
       "    </tr>\n",
       "    <tr>\n",
       "      <th>174</th>\n",
       "      <td>CurrencySymbol_CAD</td>\n",
       "      <td>2.252702e+18</td>\n",
       "      <td>2.252702e+18</td>\n",
       "    </tr>\n",
       "    <tr>\n",
       "      <th>143</th>\n",
       "      <td>CurrencyDesc_Danish krone</td>\n",
       "      <td>2.015783e+18</td>\n",
       "      <td>2.015783e+18</td>\n",
       "    </tr>\n",
       "    <tr>\n",
       "      <th>162</th>\n",
       "      <td>CurrencyDesc_South African rand</td>\n",
       "      <td>1.701706e+18</td>\n",
       "      <td>1.701706e+18</td>\n",
       "    </tr>\n",
       "  </tbody>\n",
       "</table>\n",
       "</div>"
      ],
      "text/plain": [
       "                            Variable   Coefficient  Absolute Coefficient\n",
       "147   CurrencyDesc_Indonesian rupiah  1.030128e+19          1.030128e+19\n",
       "169               CurrencySymbol_ARS  9.166949e+18          9.166949e+18\n",
       "136    CurrencyDesc_Bangladeshi taka  6.308620e+18          6.308620e+18\n",
       "188               CurrencySymbol_KRW  6.228299e+18          6.228299e+18\n",
       "140      CurrencyDesc_Colombian peso  5.311375e+18          5.311375e+18\n",
       "154     CurrencyDesc_Norwegian krone  4.830811e+18          4.830811e+18\n",
       "167   CurrencyDesc_Ukrainian hryvnia  4.786747e+18          4.786747e+18\n",
       "148        CurrencyDesc_Iranian rial  4.635893e+18          4.635893e+18\n",
       "170               CurrencySymbol_AUD  4.353186e+18          4.353186e+18\n",
       "142        CurrencyDesc_Czech koruna  4.005636e+18          4.005636e+18\n",
       "152  CurrencyDesc_New Zealand dollar  3.899265e+18          3.899265e+18\n",
       "159        CurrencyDesc_Romanian leu  3.827168e+18          3.827168e+18\n",
       "184               CurrencySymbol_ILS  3.222032e+18          3.222032e+18\n",
       "145    CurrencyDesc_Hungarian forint  2.984554e+18          2.984554e+18\n",
       "197               CurrencySymbol_RUB  2.747562e+18          2.747562e+18\n",
       "187               CurrencySymbol_JPY  2.736421e+18          2.736421e+18\n",
       "193               CurrencySymbol_PHP  2.385614e+18          2.385614e+18\n",
       "174               CurrencySymbol_CAD  2.252702e+18          2.252702e+18\n",
       "143        CurrencyDesc_Danish krone  2.015783e+18          2.015783e+18\n",
       "162  CurrencyDesc_South African rand  1.701706e+18          1.701706e+18"
      ]
     },
     "execution_count": 32,
     "metadata": {},
     "output_type": "execute_result"
    }
   ],
   "source": [
    "#Show coefficients for each variable\n",
    "\n",
    "regressiong_coefficients = pd.DataFrame()\n",
    "regressiong_coefficients['Variable'] = X_train.columns\n",
    "regressiong_coefficients['Coefficient'] = lm_model.coef_\n",
    "regressiong_coefficients['Absolute Coefficient'] = np.abs(lm_model.coef_)\n",
    "regressiong_coefficients.sort_values('Coefficient', ascending=False).head(20)"
   ]
  },
  {
   "cell_type": "markdown",
   "id": "differential-mechanics",
   "metadata": {},
   "source": [
    "The predictions are much worse, but it seems that for this model the best number of features is 1000, let's try again with this number of features approximately."
   ]
  },
  {
   "cell_type": "markdown",
   "id": "guided-democracy",
   "metadata": {},
   "source": [
    "### 5.4.- Resgression 4"
   ]
  },
  {
   "cell_type": "code",
   "execution_count": 33,
   "id": "tribal-category",
   "metadata": {},
   "outputs": [
    {
     "data": {
      "text/plain": [
       "(34756, 1086)"
      ]
     },
     "execution_count": 33,
     "metadata": {},
     "output_type": "execute_result"
    }
   ],
   "source": [
    "X4, y4 = clean_data_regression(df, 'ConvertedComp',list_like_var, 100)\n",
    "X4.shape"
   ]
  },
  {
   "cell_type": "code",
   "execution_count": 34,
   "id": "assumed-tournament",
   "metadata": {},
   "outputs": [
    {
     "name": "stdout",
     "output_type": "stream",
     "text": [
      "0.23463227057188718\n",
      "35185496825.50598\n"
     ]
    }
   ],
   "source": [
    "# Split the data\n",
    "X_train, X_test, y_train, y_test = train_test_split(X4, y4, test_size = .30, random_state=42)\n",
    "\n",
    "#Instantiate\n",
    "lm_model = LinearRegression(normalize=True);\n",
    "\n",
    "#Fit\n",
    "lm_model.fit(X_train, y_train)\n",
    "\n",
    "#Predict\n",
    "y_test_preds = lm_model.predict(X_test)\n",
    "\n",
    "#Print R2 score and MSE of the test data\n",
    "print(r2_score(y_test, y_test_preds))\n",
    "print(mean_squared_error(y_test, y_test_preds))"
   ]
  },
  {
   "cell_type": "code",
   "execution_count": 35,
   "id": "visible-oakland",
   "metadata": {},
   "outputs": [
    {
     "data": {
      "image/png": "[encoded data removed]",
      "text/plain": [
       "<Figure size 432x288 with 1 Axes>"
      ]
     },
     "metadata": {
      "needs_background": "light"
     },
     "output_type": "display_data"
    }
   ],
   "source": [
    "cutoffs = [5000, 3500, 2500, 1000, 100, 50, 30, 25]\n",
    "r2_scores_test, r2_scores_train, lm_model, X_train, X_test, y_train, y_test = find_optimal_lm_mod(X4, y4, cutoffs)"
   ]
  },
  {
   "cell_type": "markdown",
   "id": "valid-channel",
   "metadata": {},
   "source": [
    "### 5.5.- Regression 5"
   ]
  },
  {
   "cell_type": "markdown",
   "id": "drawn-harassment",
   "metadata": {},
   "source": [
    "It seems that the most important feature are the Currencies, which it does not makes sense for me. Let's check what happens is I remove these columns from the X matrix"
   ]
  },
  {
   "cell_type": "code",
   "execution_count": 36,
   "id": "essential-reduction",
   "metadata": {},
   "outputs": [],
   "source": [
    "df_remove = df.drop(columns = ['CurrencyDesc', 'CurrencySymbol'])\n"
   ]
  },
  {
   "cell_type": "code",
   "execution_count": 37,
   "id": "endangered-preliminary",
   "metadata": {},
   "outputs": [
    {
     "data": {
      "text/plain": [
       "(34756, 1016)"
      ]
     },
     "execution_count": 37,
     "metadata": {},
     "output_type": "execute_result"
    }
   ],
   "source": [
    "X5, y5 = clean_data_regression(df_remove, 'ConvertedComp',list_like_var, 100)\n",
    "X5.shape"
   ]
  },
  {
   "cell_type": "code",
   "execution_count": 38,
   "id": "cordless-observation",
   "metadata": {},
   "outputs": [
    {
     "name": "stdout",
     "output_type": "stream",
     "text": [
      "0.23554102105779373\n",
      "35143719734.43248\n"
     ]
    }
   ],
   "source": [
    "# Split the data\n",
    "X_train, X_test, y_train, y_test = train_test_split(X5, y5, test_size = .30, random_state=42)\n",
    "\n",
    "#Instantiate\n",
    "lm_model = LinearRegression(normalize=True);\n",
    "\n",
    "#Fit\n",
    "lm_model.fit(X_train, y_train)\n",
    "\n",
    "#Predict\n",
    "y_test_preds = lm_model.predict(X_test)\n",
    "\n",
    "#Print R2 score and MSE of the test data\n",
    "print(r2_score(y_test, y_test_preds))\n",
    "print(mean_squared_error(y_test, y_test_preds))"
   ]
  },
  {
   "cell_type": "markdown",
   "id": "recovered-baghdad",
   "metadata": {},
   "source": [
    "It seems that I cannot improve my predictions, therefore the best model that I have created is the regression 2"
   ]
  },
  {
   "cell_type": "markdown",
   "id": "nutritional-sunrise",
   "metadata": {},
   "source": [
    "### 5.6.- Best Regression Analysis"
   ]
  },
  {
   "cell_type": "code",
   "execution_count": 39,
   "id": "obvious-explorer",
   "metadata": {},
   "outputs": [],
   "source": [
    "# Split the data\n",
    "X_train, X_test, y_train, y_test = train_test_split(X2, y2, test_size = .30, random_state=42)\n",
    "\n",
    "#Instantiate\n",
    "lm_model = LinearRegression(normalize=True);\n",
    "\n",
    "#Fit\n",
    "lm_model.fit(X_train, y_train)\n",
    "\n",
    "#Predict\n",
    "y_test_preds = lm_model.predict(X_test)"
   ]
  },
  {
   "cell_type": "markdown",
   "id": "thirty-assault",
   "metadata": {},
   "source": [
    "## 6.- Visualize"
   ]
  },
  {
   "cell_type": "code",
   "execution_count": 40,
   "id": "competent-portrait",
   "metadata": {},
   "outputs": [
    {
     "data": {
      "image/png": "[encoded data removed]",
      "text/plain": [
       "<Figure size 432x288 with 1 Axes>"
      ]
     },
     "metadata": {
      "needs_background": "light"
     },
     "output_type": "display_data"
    }
   ],
   "source": [
    "fig, ax = plt.subplots()\n",
    "ax.scatter(y_test, y_test_preds)\n",
    "ax.plot([y.min(), y.max()], [y.min(), y.max()], 'k--', lw=4)\n",
    "ax.set_xlabel('Measured')\n",
    "ax.set_ylabel('Predicted')\n",
    "plt.show()"
   ]
  },
  {
   "cell_type": "code",
   "execution_count": 41,
   "id": "competent-consumer",
   "metadata": {},
   "outputs": [
    {
     "data": {
      "text/html": [
       "<div>\n",
       "<style scoped>\n",
       "    .dataframe tbody tr th:only-of-type {\n",
       "        vertical-align: middle;\n",
       "    }\n",
       "\n",
       "    .dataframe tbody tr th {\n",
       "        vertical-align: top;\n",
       "    }\n",
       "\n",
       "    .dataframe thead th {\n",
       "        text-align: right;\n",
       "    }\n",
       "</style>\n",
       "<table border=\"1\" class=\"dataframe\">\n",
       "  <thead>\n",
       "    <tr style=\"text-align: right;\">\n",
       "      <th></th>\n",
       "      <th>Variable</th>\n",
       "      <th>Coefficient</th>\n",
       "      <th>Absolute Coefficient</th>\n",
       "    </tr>\n",
       "  </thead>\n",
       "  <tbody>\n",
       "    <tr>\n",
       "      <th>141</th>\n",
       "      <td>CurrencySymbol_DKK</td>\n",
       "      <td>4.548210e+18</td>\n",
       "      <td>4.548210e+18</td>\n",
       "    </tr>\n",
       "    <tr>\n",
       "      <th>131</th>\n",
       "      <td>CurrencyDesc_Swiss franc</td>\n",
       "      <td>3.237905e+18</td>\n",
       "      <td>3.237905e+18</td>\n",
       "    </tr>\n",
       "    <tr>\n",
       "      <th>129</th>\n",
       "      <td>CurrencyDesc_South African rand</td>\n",
       "      <td>2.704086e+18</td>\n",
       "      <td>2.704086e+18</td>\n",
       "    </tr>\n",
       "    <tr>\n",
       "      <th>124</th>\n",
       "      <td>CurrencyDesc_Pakistani rupee</td>\n",
       "      <td>2.611641e+18</td>\n",
       "      <td>2.611641e+18</td>\n",
       "    </tr>\n",
       "    <tr>\n",
       "      <th>123</th>\n",
       "      <td>CurrencyDesc_Norwegian krone</td>\n",
       "      <td>2.555471e+18</td>\n",
       "      <td>2.555471e+18</td>\n",
       "    </tr>\n",
       "    <tr>\n",
       "      <th>125</th>\n",
       "      <td>CurrencyDesc_Polish zloty</td>\n",
       "      <td>2.430871e+18</td>\n",
       "      <td>2.430871e+18</td>\n",
       "    </tr>\n",
       "    <tr>\n",
       "      <th>118</th>\n",
       "      <td>CurrencyDesc_Hungarian forint</td>\n",
       "      <td>2.322595e+18</td>\n",
       "      <td>2.322595e+18</td>\n",
       "    </tr>\n",
       "    <tr>\n",
       "      <th>122</th>\n",
       "      <td>CurrencyDesc_Mexican peso</td>\n",
       "      <td>2.272394e+18</td>\n",
       "      <td>2.272394e+18</td>\n",
       "    </tr>\n",
       "    <tr>\n",
       "      <th>145</th>\n",
       "      <td>CurrencySymbol_ILS</td>\n",
       "      <td>2.212323e+18</td>\n",
       "      <td>2.212323e+18</td>\n",
       "    </tr>\n",
       "    <tr>\n",
       "      <th>152</th>\n",
       "      <td>CurrencySymbol_RON</td>\n",
       "      <td>1.392802e+18</td>\n",
       "      <td>1.392802e+18</td>\n",
       "    </tr>\n",
       "    <tr>\n",
       "      <th>142</th>\n",
       "      <td>CurrencySymbol_EUR</td>\n",
       "      <td>1.364399e+18</td>\n",
       "      <td>1.364399e+18</td>\n",
       "    </tr>\n",
       "    <tr>\n",
       "      <th>143</th>\n",
       "      <td>CurrencySymbol_GBP</td>\n",
       "      <td>1.166878e+18</td>\n",
       "      <td>1.166878e+18</td>\n",
       "    </tr>\n",
       "    <tr>\n",
       "      <th>128</th>\n",
       "      <td>CurrencyDesc_Russian ruble</td>\n",
       "      <td>1.025049e+18</td>\n",
       "      <td>1.025049e+18</td>\n",
       "    </tr>\n",
       "    <tr>\n",
       "      <th>137</th>\n",
       "      <td>CurrencySymbol_BRL</td>\n",
       "      <td>9.109581e+17</td>\n",
       "      <td>9.109581e+17</td>\n",
       "    </tr>\n",
       "    <tr>\n",
       "      <th>120</th>\n",
       "      <td>CurrencyDesc_Iranian rial</td>\n",
       "      <td>9.041031e+17</td>\n",
       "      <td>9.041031e+17</td>\n",
       "    </tr>\n",
       "    <tr>\n",
       "      <th>155</th>\n",
       "      <td>CurrencySymbol_TRY</td>\n",
       "      <td>8.300516e+17</td>\n",
       "      <td>8.300516e+17</td>\n",
       "    </tr>\n",
       "    <tr>\n",
       "      <th>140</th>\n",
       "      <td>CurrencySymbol_CZK</td>\n",
       "      <td>7.959457e+17</td>\n",
       "      <td>7.959457e+17</td>\n",
       "    </tr>\n",
       "    <tr>\n",
       "      <th>154</th>\n",
       "      <td>CurrencySymbol_SEK</td>\n",
       "      <td>7.081440e+17</td>\n",
       "      <td>7.081440e+17</td>\n",
       "    </tr>\n",
       "    <tr>\n",
       "      <th>134</th>\n",
       "      <td>CurrencyDesc_United States dollar</td>\n",
       "      <td>5.888825e+17</td>\n",
       "      <td>5.888825e+17</td>\n",
       "    </tr>\n",
       "    <tr>\n",
       "      <th>136</th>\n",
       "      <td>CurrencySymbol_AUD</td>\n",
       "      <td>2.562079e+17</td>\n",
       "      <td>2.562079e+17</td>\n",
       "    </tr>\n",
       "  </tbody>\n",
       "</table>\n",
       "</div>"
      ],
      "text/plain": [
       "                              Variable   Coefficient  Absolute Coefficient\n",
       "141                 CurrencySymbol_DKK  4.548210e+18          4.548210e+18\n",
       "131           CurrencyDesc_Swiss franc  3.237905e+18          3.237905e+18\n",
       "129    CurrencyDesc_South African rand  2.704086e+18          2.704086e+18\n",
       "124       CurrencyDesc_Pakistani rupee  2.611641e+18          2.611641e+18\n",
       "123       CurrencyDesc_Norwegian krone  2.555471e+18          2.555471e+18\n",
       "125          CurrencyDesc_Polish zloty  2.430871e+18          2.430871e+18\n",
       "118      CurrencyDesc_Hungarian forint  2.322595e+18          2.322595e+18\n",
       "122          CurrencyDesc_Mexican peso  2.272394e+18          2.272394e+18\n",
       "145                 CurrencySymbol_ILS  2.212323e+18          2.212323e+18\n",
       "152                 CurrencySymbol_RON  1.392802e+18          1.392802e+18\n",
       "142                 CurrencySymbol_EUR  1.364399e+18          1.364399e+18\n",
       "143                 CurrencySymbol_GBP  1.166878e+18          1.166878e+18\n",
       "128         CurrencyDesc_Russian ruble  1.025049e+18          1.025049e+18\n",
       "137                 CurrencySymbol_BRL  9.109581e+17          9.109581e+17\n",
       "120          CurrencyDesc_Iranian rial  9.041031e+17          9.041031e+17\n",
       "155                 CurrencySymbol_TRY  8.300516e+17          8.300516e+17\n",
       "140                 CurrencySymbol_CZK  7.959457e+17          7.959457e+17\n",
       "154                 CurrencySymbol_SEK  7.081440e+17          7.081440e+17\n",
       "134  CurrencyDesc_United States dollar  5.888825e+17          5.888825e+17\n",
       "136                 CurrencySymbol_AUD  2.562079e+17          2.562079e+17"
      ]
     },
     "execution_count": 41,
     "metadata": {},
     "output_type": "execute_result"
    }
   ],
   "source": [
    "#Show coefficients for each variable\n",
    "\n",
    "regressiong_coefficients = pd.DataFrame()\n",
    "regressiong_coefficients['Variable'] = X_train.columns\n",
    "regressiong_coefficients['Coefficient'] = lm_model.coef_\n",
    "regressiong_coefficients['Absolute Coefficient'] = np.abs(lm_model.coef_)\n",
    "regressiong_coefficients.sort_values('Coefficient', ascending=False).head(20)"
   ]
  },
  {
   "cell_type": "markdown",
   "id": "abstract-advancement",
   "metadata": {},
   "source": [
    "I have only been able to create a model that explains 24% of the variability in wages, so it is not of much use."
   ]
  }
 ],
 "metadata": {
  "kernelspec": {
   "display_name": "Python 3",
   "language": "python",
   "name": "python3"
  },
  "language_info": {
   "codemirror_mode": {
    "name": "ipython",
    "version": 3
   },
   "file_extension": ".py",
   "mimetype": "text/x-python",
   "name": "python",
   "nbconvert_exporter": "python",
   "pygments_lexer": "ipython3",
   "version": "3.8.5"
  }
 },
 "nbformat": 4,
 "nbformat_minor": 5
}
