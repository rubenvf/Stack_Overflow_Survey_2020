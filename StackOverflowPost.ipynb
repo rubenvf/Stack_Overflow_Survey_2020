{
 "cells": [
  {
   "cell_type": "code",
   "execution_count": 1,
   "metadata": {},
   "outputs": [],
   "source": [
    "import pandas as pd\n",
    "import numpy as np\n",
    "import matplotlib.pyplot as plt\n",
    "import seaborn as sb\n",
    "%matplotlib inline"
   ]
  },
  {
   "cell_type": "code",
   "execution_count": 2,
   "metadata": {},
   "outputs": [
    {
     "name": "stdout",
     "output_type": "stream",
     "text": [
      "['Respondent', 'MainBranch', 'Hobbyist', 'Age', 'Age1stCode', 'CompFreq', 'CompTotal', 'ConvertedComp', 'Country', 'CurrencyDesc', 'CurrencySymbol', 'DatabaseDesireNextYear', 'DatabaseWorkedWith', 'DevType', 'EdLevel', 'Employment', 'Ethnicity', 'Gender', 'JobFactors', 'JobSat', 'JobSeek', 'LanguageDesireNextYear', 'LanguageWorkedWith', 'MiscTechDesireNextYear', 'MiscTechWorkedWith', 'NEWCollabToolsDesireNextYear', 'NEWCollabToolsWorkedWith', 'NEWDevOps', 'NEWDevOpsImpt', 'NEWEdImpt', 'NEWJobHunt', 'NEWJobHuntResearch', 'NEWLearn', 'NEWOffTopic', 'NEWOnboardGood', 'NEWOtherComms', 'NEWOvertime', 'NEWPurchaseResearch', 'NEWPurpleLink', 'NEWSOSites', 'NEWStuck', 'OpSys', 'OrgSize', 'PlatformDesireNextYear', 'PlatformWorkedWith', 'PurchaseWhat', 'Sexuality', 'SOAccount', 'SOComm', 'SOPartFreq', 'SOVisitFreq', 'SurveyEase', 'SurveyLength', 'Trans', 'UndergradMajor', 'WebframeDesireNextYear', 'WebframeWorkedWith', 'WelcomeChange', 'WorkWeekHrs', 'YearsCode', 'YearsCodePro']\n"
     ]
    }
   ],
   "source": [
    "stack = pd.read_csv('survey_results_public.csv')\n",
    "schema = pd.read_csv('survey_results_schema.csv')\n",
    "print(stack.columns.tolist())"
   ]
  },
  {
   "cell_type": "code",
   "execution_count": 3,
   "metadata": {},
   "outputs": [],
   "source": [
    "def get_description_and_unique (col_name, schema = schema):\n",
    "\n",
    "    description = list(schema[schema['Column'] == col_name]['QuestionText'])[0]\n",
    "    unique_values = stack[col_name].unique()\n",
    "    return description, unique_values"
   ]
  },
  {
   "cell_type": "code",
   "execution_count": 4,
   "metadata": {},
   "outputs": [
    {
     "data": {
      "text/plain": [
       "('Including any education, how many years have you been coding in total?',\n",
       " array(['36', '7', '4', '15', '6', '17', '8', '10', '35', '5', '37', '19',\n",
       "        '9', '22', '30', '23', '20', '2', 'Less than 1 year', '3', '13',\n",
       "        '25', '16', '43', '11', '38', '33', nan, '24', '21', '12', '40',\n",
       "        '27', '50', '46', '14', '18', '28', '32', '44', '26', '42', '31',\n",
       "        '34', '29', '1', '39', '41', '45', 'More than 50 years', '47',\n",
       "        '49', '48'], dtype=object))"
      ]
     },
     "execution_count": 4,
     "metadata": {},
     "output_type": "execute_result"
    }
   ],
   "source": [
    "get_description_and_unique('YearsCode')"
   ]
  },
  {
   "cell_type": "markdown",
   "metadata": {},
   "source": [
    "First list of columns\n",
    "'Age', 'Age1stCode', 'YearsCode', 'ConvertedComp', 'Country', 'DevType', 'Employment', 'JobFactors', \n",
    "'JobSat','LanguageWorkedWith', 'NEWCollabToolsWorkedWith', 'NEWLearn', 'NEWPurchaseResearch',\n",
    "'NEWOvertime', 'OpSys', 'OrgSize', 'UndergradMajor', 'WorkWeekHrs'"
   ]
  },
  {
   "cell_type": "code",
   "execution_count": 5,
   "metadata": {},
   "outputs": [],
   "source": [
    "df = stack[['YearsCode', 'ConvertedComp', 'Employment', 'DevType', 'JobFactors', 'JobSat', 'LanguageWorkedWith',\n",
    "        'NEWLearn', 'NEWOvertime', 'OpSys', 'OrgSize', 'UndergradMajor', 'WorkWeekHrs' ]]"
   ]
  },
  {
   "cell_type": "code",
   "execution_count": 6,
   "metadata": {},
   "outputs": [
    {
     "data": {
      "text/html": [
       "<div>\n",
       "<style scoped>\n",
       "    .dataframe tbody tr th:only-of-type {\n",
       "        vertical-align: middle;\n",
       "    }\n",
       "\n",
       "    .dataframe tbody tr th {\n",
       "        vertical-align: top;\n",
       "    }\n",
       "\n",
       "    .dataframe thead th {\n",
       "        text-align: right;\n",
       "    }\n",
       "</style>\n",
       "<table border=\"1\" class=\"dataframe\">\n",
       "  <thead>\n",
       "    <tr style=\"text-align: right;\">\n",
       "      <th></th>\n",
       "      <th>YearsCode</th>\n",
       "      <th>ConvertedComp</th>\n",
       "      <th>Employment</th>\n",
       "      <th>DevType</th>\n",
       "      <th>JobFactors</th>\n",
       "      <th>JobSat</th>\n",
       "      <th>LanguageWorkedWith</th>\n",
       "      <th>NEWLearn</th>\n",
       "      <th>NEWOvertime</th>\n",
       "      <th>OpSys</th>\n",
       "      <th>OrgSize</th>\n",
       "      <th>UndergradMajor</th>\n",
       "      <th>WorkWeekHrs</th>\n",
       "    </tr>\n",
       "  </thead>\n",
       "  <tbody>\n",
       "    <tr>\n",
       "      <th>0</th>\n",
       "      <td>36</td>\n",
       "      <td>NaN</td>\n",
       "      <td>Independent contractor, freelancer, or self-em...</td>\n",
       "      <td>Developer, desktop or enterprise applications;...</td>\n",
       "      <td>Languages, frameworks, and other technologies ...</td>\n",
       "      <td>Slightly satisfied</td>\n",
       "      <td>C#;HTML/CSS;JavaScript</td>\n",
       "      <td>Once a year</td>\n",
       "      <td>Often: 1-2 days per week or more</td>\n",
       "      <td>Windows</td>\n",
       "      <td>2 to 9 employees</td>\n",
       "      <td>Computer science, computer engineering, or sof...</td>\n",
       "      <td>50.0</td>\n",
       "    </tr>\n",
       "    <tr>\n",
       "      <th>1</th>\n",
       "      <td>7</td>\n",
       "      <td>NaN</td>\n",
       "      <td>Employed full-time</td>\n",
       "      <td>Developer, full-stack;Developer, mobile</td>\n",
       "      <td>NaN</td>\n",
       "      <td>Very dissatisfied</td>\n",
       "      <td>JavaScript;Swift</td>\n",
       "      <td>Once a year</td>\n",
       "      <td>NaN</td>\n",
       "      <td>MacOS</td>\n",
       "      <td>1,000 to 4,999 employees</td>\n",
       "      <td>Computer science, computer engineering, or sof...</td>\n",
       "      <td>NaN</td>\n",
       "    </tr>\n",
       "    <tr>\n",
       "      <th>2</th>\n",
       "      <td>4</td>\n",
       "      <td>NaN</td>\n",
       "      <td>NaN</td>\n",
       "      <td>NaN</td>\n",
       "      <td>NaN</td>\n",
       "      <td>NaN</td>\n",
       "      <td>Objective-C;Python;Swift</td>\n",
       "      <td>Once a decade</td>\n",
       "      <td>NaN</td>\n",
       "      <td>Linux-based</td>\n",
       "      <td>NaN</td>\n",
       "      <td>NaN</td>\n",
       "      <td>NaN</td>\n",
       "    </tr>\n",
       "    <tr>\n",
       "      <th>3</th>\n",
       "      <td>7</td>\n",
       "      <td>NaN</td>\n",
       "      <td>NaN</td>\n",
       "      <td>NaN</td>\n",
       "      <td>Flex time or a flexible schedule;Office enviro...</td>\n",
       "      <td>Slightly dissatisfied</td>\n",
       "      <td>NaN</td>\n",
       "      <td>Once a year</td>\n",
       "      <td>Occasionally: 1-2 days per quarter but less th...</td>\n",
       "      <td>Linux-based</td>\n",
       "      <td>20 to 99 employees</td>\n",
       "      <td>Computer science, computer engineering, or sof...</td>\n",
       "      <td>40.0</td>\n",
       "    </tr>\n",
       "    <tr>\n",
       "      <th>4</th>\n",
       "      <td>15</td>\n",
       "      <td>NaN</td>\n",
       "      <td>Employed full-time</td>\n",
       "      <td>NaN</td>\n",
       "      <td>NaN</td>\n",
       "      <td>NaN</td>\n",
       "      <td>HTML/CSS;Ruby;SQL</td>\n",
       "      <td>Once a year</td>\n",
       "      <td>NaN</td>\n",
       "      <td>Windows</td>\n",
       "      <td>NaN</td>\n",
       "      <td>Computer science, computer engineering, or sof...</td>\n",
       "      <td>NaN</td>\n",
       "    </tr>\n",
       "  </tbody>\n",
       "</table>\n",
       "</div>"
      ],
      "text/plain": [
       "  YearsCode  ConvertedComp                                         Employment  \\\n",
       "0        36            NaN  Independent contractor, freelancer, or self-em...   \n",
       "1         7            NaN                                 Employed full-time   \n",
       "2         4            NaN                                                NaN   \n",
       "3         7            NaN                                                NaN   \n",
       "4        15            NaN                                 Employed full-time   \n",
       "\n",
       "                                             DevType  \\\n",
       "0  Developer, desktop or enterprise applications;...   \n",
       "1            Developer, full-stack;Developer, mobile   \n",
       "2                                                NaN   \n",
       "3                                                NaN   \n",
       "4                                                NaN   \n",
       "\n",
       "                                          JobFactors                 JobSat  \\\n",
       "0  Languages, frameworks, and other technologies ...     Slightly satisfied   \n",
       "1                                                NaN      Very dissatisfied   \n",
       "2                                                NaN                    NaN   \n",
       "3  Flex time or a flexible schedule;Office enviro...  Slightly dissatisfied   \n",
       "4                                                NaN                    NaN   \n",
       "\n",
       "         LanguageWorkedWith       NEWLearn  \\\n",
       "0    C#;HTML/CSS;JavaScript    Once a year   \n",
       "1          JavaScript;Swift    Once a year   \n",
       "2  Objective-C;Python;Swift  Once a decade   \n",
       "3                       NaN    Once a year   \n",
       "4         HTML/CSS;Ruby;SQL    Once a year   \n",
       "\n",
       "                                         NEWOvertime        OpSys  \\\n",
       "0                   Often: 1-2 days per week or more      Windows   \n",
       "1                                                NaN        MacOS   \n",
       "2                                                NaN  Linux-based   \n",
       "3  Occasionally: 1-2 days per quarter but less th...  Linux-based   \n",
       "4                                                NaN      Windows   \n",
       "\n",
       "                    OrgSize  \\\n",
       "0          2 to 9 employees   \n",
       "1  1,000 to 4,999 employees   \n",
       "2                       NaN   \n",
       "3        20 to 99 employees   \n",
       "4                       NaN   \n",
       "\n",
       "                                      UndergradMajor  WorkWeekHrs  \n",
       "0  Computer science, computer engineering, or sof...         50.0  \n",
       "1  Computer science, computer engineering, or sof...          NaN  \n",
       "2                                                NaN          NaN  \n",
       "3  Computer science, computer engineering, or sof...         40.0  \n",
       "4  Computer science, computer engineering, or sof...          NaN  "
      ]
     },
     "execution_count": 6,
     "metadata": {},
     "output_type": "execute_result"
    }
   ],
   "source": [
    "df.head()"
   ]
  },
  {
   "cell_type": "code",
   "execution_count": 7,
   "metadata": {
    "scrolled": true
   },
   "outputs": [
    {
     "name": "stdout",
     "output_type": "stream",
     "text": [
      "<class 'pandas.core.frame.DataFrame'>\n",
      "RangeIndex: 64461 entries, 0 to 64460\n",
      "Data columns (total 13 columns):\n",
      " #   Column              Non-Null Count  Dtype  \n",
      "---  ------              --------------  -----  \n",
      " 0   YearsCode           57684 non-null  object \n",
      " 1   ConvertedComp       34756 non-null  float64\n",
      " 2   Employment          63854 non-null  object \n",
      " 3   DevType             49370 non-null  object \n",
      " 4   JobFactors          49349 non-null  object \n",
      " 5   JobSat              45194 non-null  object \n",
      " 6   LanguageWorkedWith  57378 non-null  object \n",
      " 7   NEWLearn            56156 non-null  object \n",
      " 8   NEWOvertime         43231 non-null  object \n",
      " 9   OpSys               56228 non-null  object \n",
      " 10  OrgSize             44334 non-null  object \n",
      " 11  UndergradMajor      50995 non-null  object \n",
      " 12  WorkWeekHrs         41151 non-null  float64\n",
      "dtypes: float64(2), object(11)\n",
      "memory usage: 6.4+ MB\n",
      "None\n",
      "       ConvertedComp   WorkWeekHrs\n",
      "count   3.475600e+04  41151.000000\n",
      "mean    1.037561e+05     40.782174\n",
      "std     2.268853e+05     17.816383\n",
      "min     0.000000e+00      1.000000\n",
      "25%     2.464800e+04     40.000000\n",
      "50%     5.404900e+04     40.000000\n",
      "75%     9.500000e+04     44.000000\n",
      "max     2.000000e+06    475.000000\n"
     ]
    }
   ],
   "source": [
    "print(df.info())\n",
    "print(df.describe())"
   ]
  },
  {
   "cell_type": "markdown",
   "metadata": {},
   "source": [
    "## Which were the most common programming languages in 2020?"
   ]
  },
  {
   "cell_type": "code",
   "execution_count": 8,
   "metadata": {},
   "outputs": [],
   "source": [
    "def split_survey_string (dataset, col_name, sep_type):\n",
    "    \n",
    "    \n",
    "    #Order values by count, rename columns and split strings\n",
    "    temp = dataset[col_name].value_counts().reset_index()\n",
    "    temp.rename(columns = {'index': 'method', col_name:'count'}, inplace = True)\n",
    "    temp['method'] = temp['method'].str.split(sep_type)\n",
    "    \n",
    "    #Create a list with all separated values\n",
    "    val_list = []\n",
    "    for i in range(temp.shape[0]):\n",
    "        for j in temp['method'][i]:\n",
    "            val_list.append(j)\n",
    "    \n",
    "    #Convert list to series, count values and find the percetage of the total\n",
    "    series = pd.Series(val_list)\n",
    "    ratio = (series.value_counts()/series.shape[0])\n",
    "    \n",
    "    return ratio"
   ]
  },
  {
   "cell_type": "markdown",
   "metadata": {},
   "source": [
    "def total_count(df, col1, col2, look_for):\n",
    "    '''\n",
    "    INPUT:\n",
    "    df - the pandas dataframe you want to search\n",
    "    col1 - the column name you want to look through\n",
    "    col2 - the column you want to count values from\n",
    "    look_for - a list of strings you want to search for in each row of df[col]\n",
    "\n",
    "    OUTPUT:\n",
    "    new_df - a dataframe of each look_for with the count of how often it shows up\n",
    "    '''\n",
    "    new_df = defaultdict(int)\n",
    "    #loop through list of ed types\n",
    "    for val in look_for:\n",
    "        #loop through rows\n",
    "        for idx in range(df.shape[0]):\n",
    "            #if the ed type is in the row add 1\n",
    "            if val in df[col1][idx]:\n",
    "                new_df[val] += int(df[col2][idx])\n",
    "    new_df = pd.DataFrame(pd.Series(new_df)).reset_index()\n",
    "    new_df.columns = [col1, col2]\n",
    "    new_df.sort_values('count', ascending=False, inplace=True)\n",
    "    return new_df"
   ]
  },
  {
   "cell_type": "code",
   "execution_count": 9,
   "metadata": {},
   "outputs": [],
   "source": [
    "ratio = split_survey_string (df, 'LanguageWorkedWith', ';')"
   ]
  },
  {
   "cell_type": "code",
   "execution_count": 10,
   "metadata": {},
   "outputs": [],
   "source": [
    "#Plot top 10 programming languages\n",
    "def print_percentage_top(series, top_num, title):\n",
    "    \n",
    "    temp = series.head(top_num)\n",
    "\n",
    "    plt.figure(figsize = [11.69, 8.27])\n",
    "    base_color = sb.color_palette()[0]\n",
    "    ax = sb.barplot(temp.index, temp.values, color = base_color)\n",
    "\n",
    "    #Change long label to have the ticks horizontal\n",
    "    labels = [item.get_text() for item in ax.get_xticklabels()]\n",
    "    labels[5] = 'Shell'\n",
    "    ax.set_xticklabels(labels)\n",
    "\n",
    "    plt.title(title, fontsize = 18)\n",
    "\n",
    "    #Remove plot frame\n",
    "    ax.spines['top'].set_visible(False)\n",
    "    ax.spines['right'].set_visible(False)\n",
    "    ax.spines['left'].set_visible(False)\n",
    "\n",
    "    #Draw y grid below the bars\n",
    "    ax.set_axisbelow(True)\n",
    "    ax.grid(axis='y')\n",
    "\n",
    "    #Introducte percentages\n",
    "    for p in ax.patches:\n",
    "        width = p.get_width()\n",
    "        height = p.get_height()\n",
    "        x, y = p.get_xy() \n",
    "        ax.annotate( f'{height:.1%}', (x + width/2, y + height*1.02), ha='center')\n",
    "\n",
    "    plt.show()"
   ]
  },
  {
   "cell_type": "code",
   "execution_count": 11,
   "metadata": {},
   "outputs": [
    {
     "name": "stderr",
     "output_type": "stream",
     "text": [
      "C:\\Users\\rvile\\anaconda3\\envs\\blogpost\\lib\\site-packages\\seaborn\\_decorators.py:36: FutureWarning: Pass the following variables as keyword args: x, y. From version 0.12, the only valid positional argument will be `data`, and passing other arguments without an explicit keyword will result in an error or misinterpretation.\n",
      "  warnings.warn(\n"
     ]
    },
    {
     "data": {
      "image/png": "[encoded data removed]",
      "text/plain": [
       "<Figure size 841.68x595.44 with 1 Axes>"
      ]
     },
     "metadata": {
      "needs_background": "light"
     },
     "output_type": "display_data"
    }
   ],
   "source": [
    "print_percentage_top(ratio, 10, 'Top 10 programming languages in 2020')"
   ]
  },
  {
   "cell_type": "code",
   "execution_count": 56,
   "metadata": {},
   "outputs": [
    {
     "name": "stderr",
     "output_type": "stream",
     "text": [
      "C:\\Users\\rvile\\anaconda3\\envs\\blogpost\\lib\\site-packages\\seaborn\\_decorators.py:36: FutureWarning: Pass the following variables as keyword args: x, y. From version 0.12, the only valid positional argument will be `data`, and passing other arguments without an explicit keyword will result in an error or misinterpretation.\n",
      "  warnings.warn(\n",
      "<ipython-input-10-3717e5ae55a7>:13: UserWarning: FixedFormatter should only be used together with FixedLocator\n",
      "  ax.set_xticklabels(labels)\n"
     ]
    },
    {
     "data": {
      "image/png": "[encoded data removed]",
      "text/plain": [
       "<Figure size 841.68x595.44 with 1 Axes>"
      ]
     },
     "metadata": {
      "needs_background": "light"
     },
     "output_type": "display_data"
    }
   ],
   "source": [
    "print_percentage_top(df.JobSat, 1000, title = 'Job satisfaction')"
   ]
  },
  {
   "cell_type": "markdown",
   "metadata": {},
   "source": [
    "## Which variables influence more the salary?"
   ]
  },
  {
   "cell_type": "markdown",
   "metadata": {},
   "source": [
    "### Understand correlations"
   ]
  },
  {
   "cell_type": "code",
   "execution_count": 13,
   "metadata": {},
   "outputs": [
    {
     "data": {
      "text/plain": [
       "OrgSize\n",
       "2 to 9 employees                                       70442.627061\n",
       "10 to 19 employees                                     72679.088889\n",
       "Just me - I am a freelancer, sole proprietor, etc.     81785.383029\n",
       "20 to 99 employees                                     94023.045251\n",
       "500 to 999 employees                                  101318.937500\n",
       "100 to 499 employees                                  104225.637022\n",
       "5,000 to 9,999 employees                              124124.810638\n",
       "1,000 to 4,999 employees                              124722.418370\n",
       "10,000 or more employees                              144626.001659\n",
       "Name: ConvertedComp, dtype: float64"
      ]
     },
     "execution_count": 13,
     "metadata": {},
     "output_type": "execute_result"
    }
   ],
   "source": [
    "df.groupby(['OrgSize']).mean()['ConvertedComp'].sort_values()"
   ]
  },
  {
   "cell_type": "code",
   "execution_count": 14,
   "metadata": {},
   "outputs": [
    {
     "data": {
      "text/plain": [
       "OpSys\n",
       "Linux-based     94115.891307\n",
       "Windows         95247.657566\n",
       "MacOS          124645.584771\n",
       "BSD            151049.904762\n",
       "Name: ConvertedComp, dtype: float64"
      ]
     },
     "execution_count": 14,
     "metadata": {},
     "output_type": "execute_result"
    }
   ],
   "source": [
    "df.groupby(['OpSys']).mean()['ConvertedComp'].sort_values()"
   ]
  },
  {
   "cell_type": "code",
   "execution_count": 15,
   "metadata": {},
   "outputs": [
    {
     "data": {
      "text/plain": [
       "NEWLearn\n",
       "Every few months         90159.160298\n",
       "Once a decade           107657.616176\n",
       "Once a year             108207.117812\n",
       "Once every few years    114359.123566\n",
       "Name: ConvertedComp, dtype: float64"
      ]
     },
     "execution_count": 15,
     "metadata": {},
     "output_type": "execute_result"
    }
   ],
   "source": [
    "df.groupby(['NEWLearn']).mean()['ConvertedComp'].sort_values()"
   ]
  },
  {
   "cell_type": "markdown",
   "metadata": {},
   "source": [
    "¿Como es posible que los que aprendan mas amenudo tengan menos salario?"
   ]
  },
  {
   "cell_type": "code",
   "execution_count": 17,
   "metadata": {
    "scrolled": true
   },
   "outputs": [
    {
     "data": {
      "text/plain": [
       "NEWOvertime\n",
       "Never                                                        99101.325409\n",
       "Often: 1-2 days per week or more                             99388.780387\n",
       "Sometimes: 1-2 days per month but less than weekly          100568.936536\n",
       "Rarely: 1-2 days per year or less                           106837.885517\n",
       "Occasionally: 1-2 days per quarter but less than monthly    112275.550806\n",
       "Name: ConvertedComp, dtype: float64"
      ]
     },
     "execution_count": 17,
     "metadata": {},
     "output_type": "execute_result"
    }
   ],
   "source": [
    "df.groupby(['NEWOvertime']).mean()['ConvertedComp'].sort_values()"
   ]
  },
  {
   "cell_type": "code",
   "execution_count": 22,
   "metadata": {},
   "outputs": [
    {
     "data": {
      "text/plain": [
       "UndergradMajor\n",
       "A health science (such as nursing, pharmacy, radiology, etc.)                      70738.669291\n",
       "Web development or web design                                                      79894.124477\n",
       "Another engineering discipline (such as civil, electrical, mechanical, etc.)       92776.573866\n",
       "Information systems, information technology, or system administration              93816.513949\n",
       "Computer science, computer engineering, or software engineering                   102308.640904\n",
       "A business discipline (such as accounting, finance, marketing, etc.)              109906.890909\n",
       "A natural science (such as biology, chemistry, physics, etc.)                     113949.783838\n",
       "Mathematics or statistics                                                         130102.592994\n",
       "A social science (such as anthropology, psychology, political science, etc.)      130689.137097\n",
       "I never declared a major                                                          134906.594828\n",
       "A humanities discipline (such as literature, history, philosophy, etc.)           145240.655076\n",
       "Fine arts or performing arts (such as graphic design, music, studio art, etc.)    159630.374016\n",
       "Name: ConvertedComp, dtype: float64"
      ]
     },
     "execution_count": 22,
     "metadata": {},
     "output_type": "execute_result"
    }
   ],
   "source": [
    "df.groupby(['UndergradMajor']).mean()['ConvertedComp'].sort_values()\n"
   ]
  },
  {
   "cell_type": "code",
   "execution_count": 19,
   "metadata": {},
   "outputs": [
    {
     "name": "stdout",
     "output_type": "stream",
     "text": [
      "<class 'pandas.core.frame.DataFrame'>\n",
      "RangeIndex: 64461 entries, 0 to 64460\n",
      "Data columns (total 13 columns):\n",
      " #   Column              Non-Null Count  Dtype  \n",
      "---  ------              --------------  -----  \n",
      " 0   YearsCode           57684 non-null  float64\n",
      " 1   ConvertedComp       34756 non-null  float64\n",
      " 2   Employment          63854 non-null  object \n",
      " 3   DevType             49370 non-null  object \n",
      " 4   JobFactors          49349 non-null  object \n",
      " 5   JobSat              45194 non-null  object \n",
      " 6   LanguageWorkedWith  57378 non-null  object \n",
      " 7   NEWLearn            56156 non-null  object \n",
      " 8   NEWOvertime         43231 non-null  object \n",
      " 9   OpSys               56228 non-null  object \n",
      " 10  OrgSize             44334 non-null  object \n",
      " 11  UndergradMajor      50995 non-null  object \n",
      " 12  WorkWeekHrs         41151 non-null  float64\n",
      "dtypes: float64(3), object(10)\n",
      "memory usage: 6.4+ MB\n",
      "None\n"
     ]
    },
    {
     "name": "stderr",
     "output_type": "stream",
     "text": [
      "C:\\Users\\rvile\\anaconda3\\envs\\blogpost\\lib\\site-packages\\pandas\\core\\indexing.py:1720: SettingWithCopyWarning: \n",
      "A value is trying to be set on a copy of a slice from a DataFrame.\n",
      "Try using .loc[row_indexer,col_indexer] = value instead\n",
      "\n",
      "See the caveats in the documentation: https://pandas.pydata.org/pandas-docs/stable/user_guide/indexing.html#returning-a-view-versus-a-copy\n",
      "  self._setitem_single_column(loc, value, pi)\n",
      "<ipython-input-19-62926fc1ec5e>:3: SettingWithCopyWarning: \n",
      "A value is trying to be set on a copy of a slice from a DataFrame.\n",
      "Try using .loc[row_indexer,col_indexer] = value instead\n",
      "\n",
      "See the caveats in the documentation: https://pandas.pydata.org/pandas-docs/stable/user_guide/indexing.html#returning-a-view-versus-a-copy\n",
      "  df['YearsCode'] = df['YearsCode'].astype(float)\n"
     ]
    }
   ],
   "source": [
    "df.loc[df.YearsCode == 'Less than 1 year', 'YearsCode'] = 0\n",
    "df.loc[df.YearsCode == 'More than 50 years', 'YearsCode'] = 51\n",
    "df['YearsCode'] = df['YearsCode'].astype(float)\n",
    "print(df.info())"
   ]
  },
  {
   "cell_type": "code",
   "execution_count": 20,
   "metadata": {},
   "outputs": [
    {
     "data": {
      "image/png": "[encoded data removed]",
      "text/plain": [
       "<Figure size 841.68x595.44 with 2 Axes>"
      ]
     },
     "metadata": {
      "needs_background": "light"
     },
     "output_type": "display_data"
    }
   ],
   "source": [
    "plt.figure(figsize = [11.69, 8.27])\n",
    "sb.heatmap(df.corr(), annot = True, fmt = '.2f', cmap = 'vlag_r', center = 0)\n",
    "plt.show()"
   ]
  },
  {
   "cell_type": "code",
   "execution_count": 38,
   "metadata": {},
   "outputs": [
    {
     "data": {
      "image/png": "[encoded data removed]",
      "text/plain": [
       "<Figure size 432x288 with 4 Axes>"
      ]
     },
     "metadata": {
      "needs_background": "light"
     },
     "output_type": "display_data"
    }
   ],
   "source": [
    "df.hist();"
   ]
  },
  {
   "cell_type": "code",
   "execution_count": 16,
   "metadata": {},
   "outputs": [
    {
     "data": {
      "text/plain": [
       "DevType\n",
       "Data or business analyst;Database administrator;Developer, back-end;Developer, front-end;Developer, full-stack;Developer, mobile;Developer, QA or test;DevOps specialist;Engineer, data;Engineer, site reliability;Marketing or sales professional;Product manager;Senior executive/VP;System administrator    0.0\n",
       "Designer;Developer, game or graphics;Engineering manager                                                                                                                                                                                                                                                       0.0\n",
       "Developer, back-end;Developer, desktop or enterprise applications;Developer, embedded applications or devices;Developer, front-end;System administrator                                                                                                                                                        0.0\n",
       "Data or business analyst;Data scientist or machine learning specialist;Database administrator;Developer, back-end;Developer, desktop or enterprise applications;Developer, full-stack;Developer, QA or test;Engineer, data;Product manager                                                                     0.0\n",
       "Designer;Developer, back-end;Developer, desktop or enterprise applications;Developer, embedded applications or devices;DevOps specialist;Marketing or sales professional                                                                                                                                       0.0\n",
       "                                                                                                                                                                                                                                                                                                              ... \n",
       "Engineering manager;System administrator                                                                                                                                                                                                                                                                       NaN\n",
       "Marketing or sales professional;Product manager                                                                                                                                                                                                                                                                NaN\n",
       "Marketing or sales professional;Product manager;Senior executive/VP                                                                                                                                                                                                                                            NaN\n",
       "Marketing or sales professional;Senior executive/VP                                                                                                                                                                                                                                                            NaN\n",
       "Marketing or sales professional;System administrator                                                                                                                                                                                                                                                           NaN\n",
       "Name: ConvertedComp, Length: 8269, dtype: float64"
      ]
     },
     "execution_count": 16,
     "metadata": {},
     "output_type": "execute_result"
    }
   ],
   "source": [
    "df.groupby(['DevType']).mean()['ConvertedComp'].sort_values()"
   ]
  },
  {
   "cell_type": "markdown",
   "metadata": {},
   "source": [
    "### Work with Nan values"
   ]
  },
  {
   "cell_type": "code",
   "execution_count": 59,
   "metadata": {},
   "outputs": [],
   "source": [
    "def miss_data(df):\n",
    "    missing_data = pd.DataFrame(columns = ['column_name','missing_data', 'missing_in_percentage'])\n",
    "    columns = df.columns\n",
    "    for col in columns:\n",
    "        col_name = col\n",
    "        missing_sum = df[col].isnull().sum()\n",
    "        missing_percentage = (df[col].isnull().mean())*100\n",
    "        \n",
    "        missing_data.loc[len(missing_data)] = [col_name, missing_sum, missing_percentage]\n",
    "    print(missing_data) "
   ]
  },
  {
   "cell_type": "code",
   "execution_count": 60,
   "metadata": {},
   "outputs": [
    {
     "name": "stdout",
     "output_type": "stream",
     "text": [
      "           column_name missing_data  missing_in_percentage\n",
      "0            YearsCode         6777              10.513334\n",
      "1        ConvertedComp        29705              46.082127\n",
      "2           Employment          607               0.941655\n",
      "3              DevType        15091              23.411055\n",
      "4           JobFactors        15112              23.443633\n",
      "5               JobSat        19267              29.889390\n",
      "6   LanguageWorkedWith         7083              10.988039\n",
      "7             NEWLearn         8305              12.883759\n",
      "8          NEWOvertime        21230              32.934643\n",
      "9                OpSys         8233              12.772064\n",
      "10             OrgSize        20127              31.223531\n",
      "11      UndergradMajor        13466              20.890151\n",
      "12         WorkWeekHrs        23310              36.161400\n"
     ]
    }
   ],
   "source": [
    "miss_data(df)"
   ]
  },
  {
   "cell_type": "code",
   "execution_count": 87,
   "metadata": {},
   "outputs": [],
   "source": [
    "drop_comp_df = df.dropna(subset=['ConvertedComp'], axis=0) #Drop the rows with missing salaries"
   ]
  },
  {
   "cell_type": "code",
   "execution_count": 88,
   "metadata": {},
   "outputs": [
    {
     "name": "stderr",
     "output_type": "stream",
     "text": [
      "C:\\Users\\rvile\\anaconda3\\envs\\blogpost\\lib\\site-packages\\pandas\\core\\frame.py:3188: SettingWithCopyWarning: \n",
      "A value is trying to be set on a copy of a slice from a DataFrame.\n",
      "Try using .loc[row_indexer,col_indexer] = value instead\n",
      "\n",
      "See the caveats in the documentation: https://pandas.pydata.org/pandas-docs/stable/user_guide/indexing.html#returning-a-view-versus-a-copy\n",
      "  self[k1] = value[k2]\n"
     ]
    }
   ],
   "source": [
    "fill_mean = lambda col: col.fillna(col.mean())\n",
    "drop_comp_df[['YearsCode', 'WorkWeekHrs']] = drop_comp_df[['YearsCode', 'WorkWeekHrs']].apply(fill_mean, axis=0)"
   ]
  },
  {
   "cell_type": "code",
   "execution_count": 89,
   "metadata": {},
   "outputs": [],
   "source": [
    "fill_mode = lambda col: col.fillna(col.mode()[0])\n",
    "drop_comp_df = drop_comp_df.apply(fill_mode, axis=0)"
   ]
  },
  {
   "cell_type": "code",
   "execution_count": 90,
   "metadata": {},
   "outputs": [
    {
     "name": "stdout",
     "output_type": "stream",
     "text": [
      "           column_name missing_data  missing_in_percentage\n",
      "0            YearsCode            0                    0.0\n",
      "1        ConvertedComp            0                    0.0\n",
      "2           Employment            0                    0.0\n",
      "3              DevType            0                    0.0\n",
      "4           JobFactors            0                    0.0\n",
      "5               JobSat            0                    0.0\n",
      "6   LanguageWorkedWith            0                    0.0\n",
      "7             NEWLearn            0                    0.0\n",
      "8          NEWOvertime            0                    0.0\n",
      "9                OpSys            0                    0.0\n",
      "10             OrgSize            0                    0.0\n",
      "11      UndergradMajor            0                    0.0\n",
      "12         WorkWeekHrs            0                    0.0\n"
     ]
    }
   ],
   "source": [
    "miss_data(drop_comp_df)"
   ]
  },
  {
   "cell_type": "code",
   "execution_count": 78,
   "metadata": {},
   "outputs": [
    {
     "name": "stdout",
     "output_type": "stream",
     "text": [
      "<class 'pandas.core.frame.DataFrame'>\n",
      "Int64Index: 34756 entries, 7 to 64154\n",
      "Data columns (total 13 columns):\n",
      " #   Column              Non-Null Count  Dtype  \n",
      "---  ------              --------------  -----  \n",
      " 0   YearsCode           34756 non-null  float64\n",
      " 1   ConvertedComp       34756 non-null  float64\n",
      " 2   Employment          34756 non-null  object \n",
      " 3   DevType             34756 non-null  object \n",
      " 4   JobFactors          34756 non-null  object \n",
      " 5   JobSat              34756 non-null  object \n",
      " 6   LanguageWorkedWith  34756 non-null  object \n",
      " 7   NEWLearn            34756 non-null  object \n",
      " 8   NEWOvertime         34756 non-null  object \n",
      " 9   OpSys               34756 non-null  object \n",
      " 10  OrgSize             34756 non-null  object \n",
      " 11  UndergradMajor      34756 non-null  object \n",
      " 12  WorkWeekHrs         34756 non-null  float64\n",
      "dtypes: float64(3), object(10)\n",
      "memory usage: 3.7+ MB\n"
     ]
    }
   ],
   "source": [
    "drop_comp_df.info()"
   ]
  },
  {
   "cell_type": "code",
   "execution_count": 91,
   "metadata": {},
   "outputs": [
    {
     "data": {
      "text/html": [
       "<div>\n",
       "<style scoped>\n",
       "    .dataframe tbody tr th:only-of-type {\n",
       "        vertical-align: middle;\n",
       "    }\n",
       "\n",
       "    .dataframe tbody tr th {\n",
       "        vertical-align: top;\n",
       "    }\n",
       "\n",
       "    .dataframe thead th {\n",
       "        text-align: right;\n",
       "    }\n",
       "</style>\n",
       "<table border=\"1\" class=\"dataframe\">\n",
       "  <thead>\n",
       "    <tr style=\"text-align: right;\">\n",
       "      <th></th>\n",
       "      <th>YearsCode</th>\n",
       "      <th>ConvertedComp</th>\n",
       "      <th>Employment</th>\n",
       "      <th>DevType</th>\n",
       "      <th>JobFactors</th>\n",
       "      <th>JobSat</th>\n",
       "      <th>LanguageWorkedWith</th>\n",
       "      <th>NEWLearn</th>\n",
       "      <th>NEWOvertime</th>\n",
       "      <th>OpSys</th>\n",
       "      <th>OrgSize</th>\n",
       "      <th>UndergradMajor</th>\n",
       "      <th>WorkWeekHrs</th>\n",
       "    </tr>\n",
       "  </thead>\n",
       "  <tbody>\n",
       "    <tr>\n",
       "      <th>7</th>\n",
       "      <td>17.0</td>\n",
       "      <td>116000.0</td>\n",
       "      <td>Employed full-time</td>\n",
       "      <td>Developer, back-end;Developer, desktop or ente...</td>\n",
       "      <td>Remote work options;Opportunities for professi...</td>\n",
       "      <td>Slightly dissatisfied</td>\n",
       "      <td>Python;SQL</td>\n",
       "      <td>Once a year</td>\n",
       "      <td>Occasionally: 1-2 days per quarter but less th...</td>\n",
       "      <td>Linux-based</td>\n",
       "      <td>20 to 99 employees</td>\n",
       "      <td>Computer science, computer engineering, or sof...</td>\n",
       "      <td>39.000000</td>\n",
       "    </tr>\n",
       "    <tr>\n",
       "      <th>9</th>\n",
       "      <td>8.0</td>\n",
       "      <td>32315.0</td>\n",
       "      <td>Employed full-time</td>\n",
       "      <td>Database administrator;Developer, full-stack;D...</td>\n",
       "      <td>Flex time or a flexible schedule;How widely us...</td>\n",
       "      <td>Very satisfied</td>\n",
       "      <td>HTML/CSS;Java;JavaScript;Python;SQL</td>\n",
       "      <td>Every few months</td>\n",
       "      <td>Often: 1-2 days per week or more</td>\n",
       "      <td>Windows</td>\n",
       "      <td>2 to 9 employees</td>\n",
       "      <td>Mathematics or statistics</td>\n",
       "      <td>36.000000</td>\n",
       "    </tr>\n",
       "    <tr>\n",
       "      <th>10</th>\n",
       "      <td>10.0</td>\n",
       "      <td>40070.0</td>\n",
       "      <td>Employed full-time</td>\n",
       "      <td>Developer, back-end;Developer, desktop or ente...</td>\n",
       "      <td>Flex time or a flexible schedule;Languages, fr...</td>\n",
       "      <td>Slightly dissatisfied</td>\n",
       "      <td>C#;JavaScript;Swift</td>\n",
       "      <td>Every few months</td>\n",
       "      <td>Rarely: 1-2 days per year or less</td>\n",
       "      <td>Windows</td>\n",
       "      <td>10,000 or more employees</td>\n",
       "      <td>Computer science, computer engineering, or sof...</td>\n",
       "      <td>40.000000</td>\n",
       "    </tr>\n",
       "    <tr>\n",
       "      <th>11</th>\n",
       "      <td>7.0</td>\n",
       "      <td>14268.0</td>\n",
       "      <td>Employed full-time</td>\n",
       "      <td>Designer;Developer, front-end</td>\n",
       "      <td>Remote work options;Office environment or comp...</td>\n",
       "      <td>Very dissatisfied</td>\n",
       "      <td>HTML/CSS;JavaScript</td>\n",
       "      <td>Once every few years</td>\n",
       "      <td>Rarely: 1-2 days per year or less</td>\n",
       "      <td>Windows</td>\n",
       "      <td>2 to 9 employees</td>\n",
       "      <td>Mathematics or statistics</td>\n",
       "      <td>40.000000</td>\n",
       "    </tr>\n",
       "    <tr>\n",
       "      <th>12</th>\n",
       "      <td>35.0</td>\n",
       "      <td>38916.0</td>\n",
       "      <td>Employed full-time</td>\n",
       "      <td>Designer;Developer, back-end</td>\n",
       "      <td>Industry that I’d be working in;Financial perf...</td>\n",
       "      <td>Very satisfied</td>\n",
       "      <td>C;JavaScript;Python</td>\n",
       "      <td>Once every few years</td>\n",
       "      <td>Rarely: 1-2 days per year or less</td>\n",
       "      <td>MacOS</td>\n",
       "      <td>2 to 9 employees</td>\n",
       "      <td>Computer science, computer engineering, or sof...</td>\n",
       "      <td>36.000000</td>\n",
       "    </tr>\n",
       "    <tr>\n",
       "      <th>...</th>\n",
       "      <td>...</td>\n",
       "      <td>...</td>\n",
       "      <td>...</td>\n",
       "      <td>...</td>\n",
       "      <td>...</td>\n",
       "      <td>...</td>\n",
       "      <td>...</td>\n",
       "      <td>...</td>\n",
       "      <td>...</td>\n",
       "      <td>...</td>\n",
       "      <td>...</td>\n",
       "      <td>...</td>\n",
       "      <td>...</td>\n",
       "    </tr>\n",
       "    <tr>\n",
       "      <th>64142</th>\n",
       "      <td>3.0</td>\n",
       "      <td>984.0</td>\n",
       "      <td>Employed part-time</td>\n",
       "      <td>Academic researcher;Developer, back-end;Educator</td>\n",
       "      <td>Flex time or a flexible schedule;Languages, fr...</td>\n",
       "      <td>Neither satisfied nor dissatisfied</td>\n",
       "      <td>HTML/CSS;JavaScript;PHP;TypeScript</td>\n",
       "      <td>Once a year</td>\n",
       "      <td>Often: 1-2 days per week or more</td>\n",
       "      <td>Windows</td>\n",
       "      <td>2 to 9 employees</td>\n",
       "      <td>Computer science, computer engineering, or sof...</td>\n",
       "      <td>4.000000</td>\n",
       "    </tr>\n",
       "    <tr>\n",
       "      <th>64148</th>\n",
       "      <td>12.0</td>\n",
       "      <td>19428.0</td>\n",
       "      <td>Employed full-time</td>\n",
       "      <td>Developer, QA or test</td>\n",
       "      <td>Industry that I’d be working in;Languages, fra...</td>\n",
       "      <td>Slightly satisfied</td>\n",
       "      <td>HTML/CSS;JavaScript;PHP;SQL</td>\n",
       "      <td>Once a year</td>\n",
       "      <td>Rarely: 1-2 days per year or less</td>\n",
       "      <td>Windows</td>\n",
       "      <td>500 to 999 employees</td>\n",
       "      <td>Computer science, computer engineering, or sof...</td>\n",
       "      <td>40.000000</td>\n",
       "    </tr>\n",
       "    <tr>\n",
       "      <th>64152</th>\n",
       "      <td>25.0</td>\n",
       "      <td>200.0</td>\n",
       "      <td>Employed full-time</td>\n",
       "      <td>Developer, back-end;Developer, front-end;Devel...</td>\n",
       "      <td>Flex time or a flexible schedule;Languages, fr...</td>\n",
       "      <td>Very satisfied</td>\n",
       "      <td>HTML/CSS;JavaScript;PHP;SQL</td>\n",
       "      <td>Every few months</td>\n",
       "      <td>Never</td>\n",
       "      <td>MacOS</td>\n",
       "      <td>100 to 499 employees</td>\n",
       "      <td>Computer science, computer engineering, or sof...</td>\n",
       "      <td>40.761557</td>\n",
       "    </tr>\n",
       "    <tr>\n",
       "      <th>64153</th>\n",
       "      <td>7.0</td>\n",
       "      <td>15048.0</td>\n",
       "      <td>Employed full-time</td>\n",
       "      <td>Developer, full-stack;Developer, QA or test;Sy...</td>\n",
       "      <td>Languages, frameworks, and other technologies ...</td>\n",
       "      <td>Neither satisfied nor dissatisfied</td>\n",
       "      <td>HTML/CSS;JavaScript;PHP;SQL</td>\n",
       "      <td>Once a year</td>\n",
       "      <td>Sometimes: 1-2 days per month but less than we...</td>\n",
       "      <td>Windows</td>\n",
       "      <td>2 to 9 employees</td>\n",
       "      <td>Information systems, information technology, o...</td>\n",
       "      <td>45.000000</td>\n",
       "    </tr>\n",
       "    <tr>\n",
       "      <th>64154</th>\n",
       "      <td>5.0</td>\n",
       "      <td>38759.0</td>\n",
       "      <td>Employed full-time</td>\n",
       "      <td>Developer, front-end</td>\n",
       "      <td>Flex time or a flexible schedule;Languages, fr...</td>\n",
       "      <td>Neither satisfied nor dissatisfied</td>\n",
       "      <td>HTML/CSS;JavaScript;PHP;SQL</td>\n",
       "      <td>Once a year</td>\n",
       "      <td>Rarely: 1-2 days per year or less</td>\n",
       "      <td>Windows</td>\n",
       "      <td>20 to 99 employees</td>\n",
       "      <td>Web development or web design</td>\n",
       "      <td>40.000000</td>\n",
       "    </tr>\n",
       "  </tbody>\n",
       "</table>\n",
       "<p>34756 rows × 13 columns</p>\n",
       "</div>"
      ],
      "text/plain": [
       "       YearsCode  ConvertedComp          Employment  \\\n",
       "7           17.0       116000.0  Employed full-time   \n",
       "9            8.0        32315.0  Employed full-time   \n",
       "10          10.0        40070.0  Employed full-time   \n",
       "11           7.0        14268.0  Employed full-time   \n",
       "12          35.0        38916.0  Employed full-time   \n",
       "...          ...            ...                 ...   \n",
       "64142        3.0          984.0  Employed part-time   \n",
       "64148       12.0        19428.0  Employed full-time   \n",
       "64152       25.0          200.0  Employed full-time   \n",
       "64153        7.0        15048.0  Employed full-time   \n",
       "64154        5.0        38759.0  Employed full-time   \n",
       "\n",
       "                                                 DevType  \\\n",
       "7      Developer, back-end;Developer, desktop or ente...   \n",
       "9      Database administrator;Developer, full-stack;D...   \n",
       "10     Developer, back-end;Developer, desktop or ente...   \n",
       "11                         Designer;Developer, front-end   \n",
       "12                          Designer;Developer, back-end   \n",
       "...                                                  ...   \n",
       "64142   Academic researcher;Developer, back-end;Educator   \n",
       "64148                              Developer, QA or test   \n",
       "64152  Developer, back-end;Developer, front-end;Devel...   \n",
       "64153  Developer, full-stack;Developer, QA or test;Sy...   \n",
       "64154                               Developer, front-end   \n",
       "\n",
       "                                              JobFactors  \\\n",
       "7      Remote work options;Opportunities for professi...   \n",
       "9      Flex time or a flexible schedule;How widely us...   \n",
       "10     Flex time or a flexible schedule;Languages, fr...   \n",
       "11     Remote work options;Office environment or comp...   \n",
       "12     Industry that I’d be working in;Financial perf...   \n",
       "...                                                  ...   \n",
       "64142  Flex time or a flexible schedule;Languages, fr...   \n",
       "64148  Industry that I’d be working in;Languages, fra...   \n",
       "64152  Flex time or a flexible schedule;Languages, fr...   \n",
       "64153  Languages, frameworks, and other technologies ...   \n",
       "64154  Flex time or a flexible schedule;Languages, fr...   \n",
       "\n",
       "                                   JobSat  \\\n",
       "7                   Slightly dissatisfied   \n",
       "9                          Very satisfied   \n",
       "10                  Slightly dissatisfied   \n",
       "11                      Very dissatisfied   \n",
       "12                         Very satisfied   \n",
       "...                                   ...   \n",
       "64142  Neither satisfied nor dissatisfied   \n",
       "64148                  Slightly satisfied   \n",
       "64152                      Very satisfied   \n",
       "64153  Neither satisfied nor dissatisfied   \n",
       "64154  Neither satisfied nor dissatisfied   \n",
       "\n",
       "                        LanguageWorkedWith              NEWLearn  \\\n",
       "7                               Python;SQL           Once a year   \n",
       "9      HTML/CSS;Java;JavaScript;Python;SQL      Every few months   \n",
       "10                     C#;JavaScript;Swift      Every few months   \n",
       "11                     HTML/CSS;JavaScript  Once every few years   \n",
       "12                     C;JavaScript;Python  Once every few years   \n",
       "...                                    ...                   ...   \n",
       "64142   HTML/CSS;JavaScript;PHP;TypeScript           Once a year   \n",
       "64148          HTML/CSS;JavaScript;PHP;SQL           Once a year   \n",
       "64152          HTML/CSS;JavaScript;PHP;SQL      Every few months   \n",
       "64153          HTML/CSS;JavaScript;PHP;SQL           Once a year   \n",
       "64154          HTML/CSS;JavaScript;PHP;SQL           Once a year   \n",
       "\n",
       "                                             NEWOvertime        OpSys  \\\n",
       "7      Occasionally: 1-2 days per quarter but less th...  Linux-based   \n",
       "9                       Often: 1-2 days per week or more      Windows   \n",
       "10                     Rarely: 1-2 days per year or less      Windows   \n",
       "11                     Rarely: 1-2 days per year or less      Windows   \n",
       "12                     Rarely: 1-2 days per year or less        MacOS   \n",
       "...                                                  ...          ...   \n",
       "64142                   Often: 1-2 days per week or more      Windows   \n",
       "64148                  Rarely: 1-2 days per year or less      Windows   \n",
       "64152                                              Never        MacOS   \n",
       "64153  Sometimes: 1-2 days per month but less than we...      Windows   \n",
       "64154                  Rarely: 1-2 days per year or less      Windows   \n",
       "\n",
       "                        OrgSize  \\\n",
       "7            20 to 99 employees   \n",
       "9              2 to 9 employees   \n",
       "10     10,000 or more employees   \n",
       "11             2 to 9 employees   \n",
       "12             2 to 9 employees   \n",
       "...                         ...   \n",
       "64142          2 to 9 employees   \n",
       "64148      500 to 999 employees   \n",
       "64152      100 to 499 employees   \n",
       "64153          2 to 9 employees   \n",
       "64154        20 to 99 employees   \n",
       "\n",
       "                                          UndergradMajor  WorkWeekHrs  \n",
       "7      Computer science, computer engineering, or sof...    39.000000  \n",
       "9                              Mathematics or statistics    36.000000  \n",
       "10     Computer science, computer engineering, or sof...    40.000000  \n",
       "11                             Mathematics or statistics    40.000000  \n",
       "12     Computer science, computer engineering, or sof...    36.000000  \n",
       "...                                                  ...          ...  \n",
       "64142  Computer science, computer engineering, or sof...     4.000000  \n",
       "64148  Computer science, computer engineering, or sof...    40.000000  \n",
       "64152  Computer science, computer engineering, or sof...    40.761557  \n",
       "64153  Information systems, information technology, o...    45.000000  \n",
       "64154                      Web development or web design    40.000000  \n",
       "\n",
       "[34756 rows x 13 columns]"
      ]
     },
     "execution_count": 91,
     "metadata": {},
     "output_type": "execute_result"
    }
   ],
   "source": [
    "drop_comp_df"
   ]
  },
  {
   "cell_type": "markdown",
   "metadata": {},
   "source": [
    "### Work with categorical values"
   ]
  },
  {
   "cell_type": "markdown",
   "metadata": {},
   "source": [
    "### Linear regression"
   ]
  },
  {
   "cell_type": "code",
   "execution_count": 21,
   "metadata": {},
   "outputs": [
    {
     "ename": "KeyError",
     "evalue": "\"None of [Index(['CareerSatisfaction', 'HoursPerWeek', 'JobSatisfaction',\\n       'StackOverflowSatisfaction'],\\n      dtype='object')] are in the [columns]\"",
     "output_type": "error",
     "traceback": [
      "\u001b[1;31m---------------------------------------------------------------------------\u001b[0m",
      "\u001b[1;31mKeyError\u001b[0m                                  Traceback (most recent call last)",
      "\u001b[1;32m<ipython-input-21-e902aa126860>\u001b[0m in \u001b[0;36m<module>\u001b[1;34m\u001b[0m\n\u001b[0;32m      1\u001b[0m \u001b[1;31m# Consider only numerical variables\u001b[0m\u001b[1;33m\u001b[0m\u001b[1;33m\u001b[0m\u001b[1;33m\u001b[0m\u001b[0m\n\u001b[1;32m----> 2\u001b[1;33m \u001b[0mX\u001b[0m \u001b[1;33m=\u001b[0m \u001b[0mdf\u001b[0m\u001b[1;33m[\u001b[0m\u001b[1;33m[\u001b[0m\u001b[1;34m'CareerSatisfaction'\u001b[0m\u001b[1;33m,\u001b[0m \u001b[1;34m'HoursPerWeek'\u001b[0m\u001b[1;33m,\u001b[0m \u001b[1;34m'JobSatisfaction'\u001b[0m\u001b[1;33m,\u001b[0m \u001b[1;34m'StackOverflowSatisfaction'\u001b[0m\u001b[1;33m]\u001b[0m\u001b[1;33m]\u001b[0m\u001b[1;33m\u001b[0m\u001b[1;33m\u001b[0m\u001b[0m\n\u001b[0m\u001b[0;32m      3\u001b[0m \u001b[0my\u001b[0m \u001b[1;33m=\u001b[0m \u001b[0mdf\u001b[0m\u001b[1;33m[\u001b[0m\u001b[1;34m'Salary'\u001b[0m\u001b[1;33m]\u001b[0m\u001b[1;33m\u001b[0m\u001b[1;33m\u001b[0m\u001b[0m\n\u001b[0;32m      4\u001b[0m \u001b[1;33m\u001b[0m\u001b[0m\n\u001b[0;32m      5\u001b[0m \u001b[0mX_train\u001b[0m\u001b[1;33m,\u001b[0m \u001b[0mX_test\u001b[0m\u001b[1;33m,\u001b[0m \u001b[0my_train\u001b[0m\u001b[1;33m,\u001b[0m \u001b[0my_test\u001b[0m \u001b[1;33m=\u001b[0m \u001b[0mtrain_test_split\u001b[0m\u001b[1;33m(\u001b[0m\u001b[0mX\u001b[0m\u001b[1;33m,\u001b[0m \u001b[0my\u001b[0m\u001b[1;33m,\u001b[0m \u001b[0mtest_size\u001b[0m \u001b[1;33m=\u001b[0m \u001b[1;36m.30\u001b[0m\u001b[1;33m,\u001b[0m \u001b[0mrandom_state\u001b[0m\u001b[1;33m=\u001b[0m\u001b[1;36m42\u001b[0m\u001b[1;33m)\u001b[0m\u001b[1;33m\u001b[0m\u001b[1;33m\u001b[0m\u001b[0m\n",
      "\u001b[1;32m~\\anaconda3\\envs\\blogpost\\lib\\site-packages\\pandas\\core\\frame.py\u001b[0m in \u001b[0;36m__getitem__\u001b[1;34m(self, key)\u001b[0m\n\u001b[0;32m   3028\u001b[0m             \u001b[1;32mif\u001b[0m \u001b[0mis_iterator\u001b[0m\u001b[1;33m(\u001b[0m\u001b[0mkey\u001b[0m\u001b[1;33m)\u001b[0m\u001b[1;33m:\u001b[0m\u001b[1;33m\u001b[0m\u001b[1;33m\u001b[0m\u001b[0m\n\u001b[0;32m   3029\u001b[0m                 \u001b[0mkey\u001b[0m \u001b[1;33m=\u001b[0m \u001b[0mlist\u001b[0m\u001b[1;33m(\u001b[0m\u001b[0mkey\u001b[0m\u001b[1;33m)\u001b[0m\u001b[1;33m\u001b[0m\u001b[1;33m\u001b[0m\u001b[0m\n\u001b[1;32m-> 3030\u001b[1;33m             \u001b[0mindexer\u001b[0m \u001b[1;33m=\u001b[0m \u001b[0mself\u001b[0m\u001b[1;33m.\u001b[0m\u001b[0mloc\u001b[0m\u001b[1;33m.\u001b[0m\u001b[0m_get_listlike_indexer\u001b[0m\u001b[1;33m(\u001b[0m\u001b[0mkey\u001b[0m\u001b[1;33m,\u001b[0m \u001b[0maxis\u001b[0m\u001b[1;33m=\u001b[0m\u001b[1;36m1\u001b[0m\u001b[1;33m,\u001b[0m \u001b[0mraise_missing\u001b[0m\u001b[1;33m=\u001b[0m\u001b[1;32mTrue\u001b[0m\u001b[1;33m)\u001b[0m\u001b[1;33m[\u001b[0m\u001b[1;36m1\u001b[0m\u001b[1;33m]\u001b[0m\u001b[1;33m\u001b[0m\u001b[1;33m\u001b[0m\u001b[0m\n\u001b[0m\u001b[0;32m   3031\u001b[0m \u001b[1;33m\u001b[0m\u001b[0m\n\u001b[0;32m   3032\u001b[0m         \u001b[1;31m# take() does not accept boolean indexers\u001b[0m\u001b[1;33m\u001b[0m\u001b[1;33m\u001b[0m\u001b[1;33m\u001b[0m\u001b[0m\n",
      "\u001b[1;32m~\\anaconda3\\envs\\blogpost\\lib\\site-packages\\pandas\\core\\indexing.py\u001b[0m in \u001b[0;36m_get_listlike_indexer\u001b[1;34m(self, key, axis, raise_missing)\u001b[0m\n\u001b[0;32m   1264\u001b[0m             \u001b[0mkeyarr\u001b[0m\u001b[1;33m,\u001b[0m \u001b[0mindexer\u001b[0m\u001b[1;33m,\u001b[0m \u001b[0mnew_indexer\u001b[0m \u001b[1;33m=\u001b[0m \u001b[0max\u001b[0m\u001b[1;33m.\u001b[0m\u001b[0m_reindex_non_unique\u001b[0m\u001b[1;33m(\u001b[0m\u001b[0mkeyarr\u001b[0m\u001b[1;33m)\u001b[0m\u001b[1;33m\u001b[0m\u001b[1;33m\u001b[0m\u001b[0m\n\u001b[0;32m   1265\u001b[0m \u001b[1;33m\u001b[0m\u001b[0m\n\u001b[1;32m-> 1266\u001b[1;33m         \u001b[0mself\u001b[0m\u001b[1;33m.\u001b[0m\u001b[0m_validate_read_indexer\u001b[0m\u001b[1;33m(\u001b[0m\u001b[0mkeyarr\u001b[0m\u001b[1;33m,\u001b[0m \u001b[0mindexer\u001b[0m\u001b[1;33m,\u001b[0m \u001b[0maxis\u001b[0m\u001b[1;33m,\u001b[0m \u001b[0mraise_missing\u001b[0m\u001b[1;33m=\u001b[0m\u001b[0mraise_missing\u001b[0m\u001b[1;33m)\u001b[0m\u001b[1;33m\u001b[0m\u001b[1;33m\u001b[0m\u001b[0m\n\u001b[0m\u001b[0;32m   1267\u001b[0m         \u001b[1;32mreturn\u001b[0m \u001b[0mkeyarr\u001b[0m\u001b[1;33m,\u001b[0m \u001b[0mindexer\u001b[0m\u001b[1;33m\u001b[0m\u001b[1;33m\u001b[0m\u001b[0m\n\u001b[0;32m   1268\u001b[0m \u001b[1;33m\u001b[0m\u001b[0m\n",
      "\u001b[1;32m~\\anaconda3\\envs\\blogpost\\lib\\site-packages\\pandas\\core\\indexing.py\u001b[0m in \u001b[0;36m_validate_read_indexer\u001b[1;34m(self, key, indexer, axis, raise_missing)\u001b[0m\n\u001b[0;32m   1306\u001b[0m             \u001b[1;32mif\u001b[0m \u001b[0mmissing\u001b[0m \u001b[1;33m==\u001b[0m \u001b[0mlen\u001b[0m\u001b[1;33m(\u001b[0m\u001b[0mindexer\u001b[0m\u001b[1;33m)\u001b[0m\u001b[1;33m:\u001b[0m\u001b[1;33m\u001b[0m\u001b[1;33m\u001b[0m\u001b[0m\n\u001b[0;32m   1307\u001b[0m                 \u001b[0maxis_name\u001b[0m \u001b[1;33m=\u001b[0m \u001b[0mself\u001b[0m\u001b[1;33m.\u001b[0m\u001b[0mobj\u001b[0m\u001b[1;33m.\u001b[0m\u001b[0m_get_axis_name\u001b[0m\u001b[1;33m(\u001b[0m\u001b[0maxis\u001b[0m\u001b[1;33m)\u001b[0m\u001b[1;33m\u001b[0m\u001b[1;33m\u001b[0m\u001b[0m\n\u001b[1;32m-> 1308\u001b[1;33m                 \u001b[1;32mraise\u001b[0m \u001b[0mKeyError\u001b[0m\u001b[1;33m(\u001b[0m\u001b[1;34mf\"None of [{key}] are in the [{axis_name}]\"\u001b[0m\u001b[1;33m)\u001b[0m\u001b[1;33m\u001b[0m\u001b[1;33m\u001b[0m\u001b[0m\n\u001b[0m\u001b[0;32m   1309\u001b[0m \u001b[1;33m\u001b[0m\u001b[0m\n\u001b[0;32m   1310\u001b[0m             \u001b[0max\u001b[0m \u001b[1;33m=\u001b[0m \u001b[0mself\u001b[0m\u001b[1;33m.\u001b[0m\u001b[0mobj\u001b[0m\u001b[1;33m.\u001b[0m\u001b[0m_get_axis\u001b[0m\u001b[1;33m(\u001b[0m\u001b[0maxis\u001b[0m\u001b[1;33m)\u001b[0m\u001b[1;33m\u001b[0m\u001b[1;33m\u001b[0m\u001b[0m\n",
      "\u001b[1;31mKeyError\u001b[0m: \"None of [Index(['CareerSatisfaction', 'HoursPerWeek', 'JobSatisfaction',\\n       'StackOverflowSatisfaction'],\\n      dtype='object')] are in the [columns]\""
     ]
    }
   ],
   "source": [
    "# Consider only numerical variables\n",
    "X = df[['CareerSatisfaction', 'HoursPerWeek', 'JobSatisfaction', 'StackOverflowSatisfaction']]\n",
    "y = df['Salary']\n",
    "\n",
    "X_train, X_test, y_train, y_test = train_test_split(X, y, test_size = .30, random_state=42)\n",
    "\n",
    "#Four steps:\n",
    "\n",
    "#Instantiate\n",
    "lm_model = LinearRegression(normalize=True) \n",
    "\n",
    "#Fit - why does this break?\n",
    "lm_model.fit(X_train, y_train) \n",
    "\n",
    "#Predict\n",
    "#Score"
   ]
  },
  {
   "cell_type": "code",
   "execution_count": null,
   "metadata": {},
   "outputs": [],
   "source": [
    "df.DevType.unique()"
   ]
  },
  {
   "cell_type": "code",
   "execution_count": null,
   "metadata": {},
   "outputs": [],
   "source": [
    "df[df['DevType'] == 'Data scientist or machine learning specialist']['LanguageWorkedWith'].value_counts()"
   ]
  },
  {
   "cell_type": "code",
   "execution_count": null,
   "metadata": {},
   "outputs": [],
   "source": [
    "#Useful functions of the course\n",
    "most_missing_cols = set(df.columns[df.isnull().mean() > 0.75]) #Provide a set of columns with more than 75% of the values missing\n",
    "no_nulls = set(df.columns[df.isnull().mean()==0]) #Provide a set of columns with 0 missing values.\n",
    "(ed_vals/df.shape[0]).plot(kind=\"bar\"); # The below should be a bar chart of the proportion of individuals in your ed_vals\n",
    "\n",
    "#Mean salaries grouped by sex and education\n",
    "pd.DataFrame(df.query(\"Professional == 'Professional developer' and (Gender == 'Male' or Gender == 'Female')\").groupby(['Gender', 'FormalEducation']).mean()['Salary'])\n",
    "\n"
   ]
  },
  {
   "cell_type": "code",
   "execution_count": null,
   "metadata": {},
   "outputs": [],
   "source": []
  }
 ],
 "metadata": {
  "kernelspec": {
   "display_name": "Python 3",
   "language": "python",
   "name": "python3"
  },
  "language_info": {
   "codemirror_mode": {
    "name": "ipython",
    "version": 3
   },
   "file_extension": ".py",
   "mimetype": "text/x-python",
   "name": "python",
   "nbconvert_exporter": "python",
   "pygments_lexer": "ipython3",
   "version": "3.8.5"
  }
 },
 "nbformat": 4,
 "nbformat_minor": 4
}
