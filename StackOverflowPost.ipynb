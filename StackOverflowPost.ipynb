{
 "cells": [
  {
   "cell_type": "code",
   "execution_count": 1,
   "metadata": {},
   "outputs": [],
   "source": [
    "import pandas as pd\n",
    "import numpy as np\n",
    "import matplotlib.pyplot as plt\n",
    "import seaborn as sb\n",
    "%matplotlib inline"
   ]
  },
  {
   "cell_type": "code",
   "execution_count": 2,
   "metadata": {},
   "outputs": [
    {
     "name": "stdout",
     "output_type": "stream",
     "text": [
      "['Respondent', 'MainBranch', 'Hobbyist', 'Age', 'Age1stCode', 'CompFreq', 'CompTotal', 'ConvertedComp', 'Country', 'CurrencyDesc', 'CurrencySymbol', 'DatabaseDesireNextYear', 'DatabaseWorkedWith', 'DevType', 'EdLevel', 'Employment', 'Ethnicity', 'Gender', 'JobFactors', 'JobSat', 'JobSeek', 'LanguageDesireNextYear', 'LanguageWorkedWith', 'MiscTechDesireNextYear', 'MiscTechWorkedWith', 'NEWCollabToolsDesireNextYear', 'NEWCollabToolsWorkedWith', 'NEWDevOps', 'NEWDevOpsImpt', 'NEWEdImpt', 'NEWJobHunt', 'NEWJobHuntResearch', 'NEWLearn', 'NEWOffTopic', 'NEWOnboardGood', 'NEWOtherComms', 'NEWOvertime', 'NEWPurchaseResearch', 'NEWPurpleLink', 'NEWSOSites', 'NEWStuck', 'OpSys', 'OrgSize', 'PlatformDesireNextYear', 'PlatformWorkedWith', 'PurchaseWhat', 'Sexuality', 'SOAccount', 'SOComm', 'SOPartFreq', 'SOVisitFreq', 'SurveyEase', 'SurveyLength', 'Trans', 'UndergradMajor', 'WebframeDesireNextYear', 'WebframeWorkedWith', 'WelcomeChange', 'WorkWeekHrs', 'YearsCode', 'YearsCodePro']\n"
     ]
    }
   ],
   "source": [
    "stack = pd.read_csv('survey_results_public.csv')\n",
    "schema = pd.read_csv('survey_results_schema.csv')\n",
    "print(stack.columns.tolist())"
   ]
  },
  {
   "cell_type": "code",
   "execution_count": 3,
   "metadata": {},
   "outputs": [],
   "source": [
    "def get_description_and_unique (col_name, schema = schema):\n",
    "\n",
    "    description = list(schema[schema['Column'] == col_name]['QuestionText'])[0]\n",
    "    unique_values = stack[col_name].unique()\n",
    "    return description, unique_values"
   ]
  },
  {
   "cell_type": "code",
   "execution_count": 4,
   "metadata": {},
   "outputs": [
    {
     "data": {
      "text/plain": [
       "('Which of the following best describes the highest level of formal education that you’ve completed?',\n",
       " array(['Master’s degree (M.A., M.S., M.Eng., MBA, etc.)',\n",
       "        'Bachelor’s degree (B.A., B.S., B.Eng., etc.)', nan,\n",
       "        'Secondary school (e.g. American high school, German Realschule or Gymnasium, etc.)',\n",
       "        'Professional degree (JD, MD, etc.)',\n",
       "        'Some college/university study without earning a degree',\n",
       "        'Associate degree (A.A., A.S., etc.)',\n",
       "        'Other doctoral degree (Ph.D., Ed.D., etc.)',\n",
       "        'Primary/elementary school',\n",
       "        'I never completed any formal education'], dtype=object))"
      ]
     },
     "execution_count": 4,
     "metadata": {},
     "output_type": "execute_result"
    }
   ],
   "source": [
    "get_description_and_unique('EdLevel')"
   ]
  },
  {
   "cell_type": "markdown",
   "metadata": {},
   "source": [
    "First list of columns\n",
    "'Age', 'Age1stCode', 'YearsCode', 'ConvertedComp', 'Country', 'DevType', 'Employment', 'JobFactors', \n",
    "'JobSat','LanguageWorkedWith', 'NEWCollabToolsWorkedWith', 'NEWLearn', 'NEWPurchaseResearch',\n",
    "'NEWOvertime', 'OpSys', 'OrgSize', 'UndergradMajor', 'WorkWeekHrs'"
   ]
  },
  {
   "cell_type": "code",
   "execution_count": 5,
   "metadata": {},
   "outputs": [],
   "source": [
    "df = stack[['YearsCode', 'ConvertedComp', 'Employment', 'DevType', 'JobFactors', 'JobSat', 'LanguageWorkedWith',\n",
    "        'NEWLearn', 'NEWOvertime', 'OpSys', 'OrgSize', 'UndergradMajor', 'WorkWeekHrs' ]]"
   ]
  },
  {
   "cell_type": "code",
   "execution_count": 6,
   "metadata": {},
   "outputs": [
    {
     "data": {
      "text/html": [
       "<div>\n",
       "<style scoped>\n",
       "    .dataframe tbody tr th:only-of-type {\n",
       "        vertical-align: middle;\n",
       "    }\n",
       "\n",
       "    .dataframe tbody tr th {\n",
       "        vertical-align: top;\n",
       "    }\n",
       "\n",
       "    .dataframe thead th {\n",
       "        text-align: right;\n",
       "    }\n",
       "</style>\n",
       "<table border=\"1\" class=\"dataframe\">\n",
       "  <thead>\n",
       "    <tr style=\"text-align: right;\">\n",
       "      <th></th>\n",
       "      <th>YearsCode</th>\n",
       "      <th>ConvertedComp</th>\n",
       "      <th>Employment</th>\n",
       "      <th>DevType</th>\n",
       "      <th>JobFactors</th>\n",
       "      <th>JobSat</th>\n",
       "      <th>LanguageWorkedWith</th>\n",
       "      <th>NEWLearn</th>\n",
       "      <th>NEWOvertime</th>\n",
       "      <th>OpSys</th>\n",
       "      <th>OrgSize</th>\n",
       "      <th>UndergradMajor</th>\n",
       "      <th>WorkWeekHrs</th>\n",
       "    </tr>\n",
       "  </thead>\n",
       "  <tbody>\n",
       "    <tr>\n",
       "      <th>0</th>\n",
       "      <td>36</td>\n",
       "      <td>NaN</td>\n",
       "      <td>Independent contractor, freelancer, or self-em...</td>\n",
       "      <td>Developer, desktop or enterprise applications;...</td>\n",
       "      <td>Languages, frameworks, and other technologies ...</td>\n",
       "      <td>Slightly satisfied</td>\n",
       "      <td>C#;HTML/CSS;JavaScript</td>\n",
       "      <td>Once a year</td>\n",
       "      <td>Often: 1-2 days per week or more</td>\n",
       "      <td>Windows</td>\n",
       "      <td>2 to 9 employees</td>\n",
       "      <td>Computer science, computer engineering, or sof...</td>\n",
       "      <td>50.0</td>\n",
       "    </tr>\n",
       "    <tr>\n",
       "      <th>1</th>\n",
       "      <td>7</td>\n",
       "      <td>NaN</td>\n",
       "      <td>Employed full-time</td>\n",
       "      <td>Developer, full-stack;Developer, mobile</td>\n",
       "      <td>NaN</td>\n",
       "      <td>Very dissatisfied</td>\n",
       "      <td>JavaScript;Swift</td>\n",
       "      <td>Once a year</td>\n",
       "      <td>NaN</td>\n",
       "      <td>MacOS</td>\n",
       "      <td>1,000 to 4,999 employees</td>\n",
       "      <td>Computer science, computer engineering, or sof...</td>\n",
       "      <td>NaN</td>\n",
       "    </tr>\n",
       "    <tr>\n",
       "      <th>2</th>\n",
       "      <td>4</td>\n",
       "      <td>NaN</td>\n",
       "      <td>NaN</td>\n",
       "      <td>NaN</td>\n",
       "      <td>NaN</td>\n",
       "      <td>NaN</td>\n",
       "      <td>Objective-C;Python;Swift</td>\n",
       "      <td>Once a decade</td>\n",
       "      <td>NaN</td>\n",
       "      <td>Linux-based</td>\n",
       "      <td>NaN</td>\n",
       "      <td>NaN</td>\n",
       "      <td>NaN</td>\n",
       "    </tr>\n",
       "    <tr>\n",
       "      <th>3</th>\n",
       "      <td>7</td>\n",
       "      <td>NaN</td>\n",
       "      <td>NaN</td>\n",
       "      <td>NaN</td>\n",
       "      <td>Flex time or a flexible schedule;Office enviro...</td>\n",
       "      <td>Slightly dissatisfied</td>\n",
       "      <td>NaN</td>\n",
       "      <td>Once a year</td>\n",
       "      <td>Occasionally: 1-2 days per quarter but less th...</td>\n",
       "      <td>Linux-based</td>\n",
       "      <td>20 to 99 employees</td>\n",
       "      <td>Computer science, computer engineering, or sof...</td>\n",
       "      <td>40.0</td>\n",
       "    </tr>\n",
       "    <tr>\n",
       "      <th>4</th>\n",
       "      <td>15</td>\n",
       "      <td>NaN</td>\n",
       "      <td>Employed full-time</td>\n",
       "      <td>NaN</td>\n",
       "      <td>NaN</td>\n",
       "      <td>NaN</td>\n",
       "      <td>HTML/CSS;Ruby;SQL</td>\n",
       "      <td>Once a year</td>\n",
       "      <td>NaN</td>\n",
       "      <td>Windows</td>\n",
       "      <td>NaN</td>\n",
       "      <td>Computer science, computer engineering, or sof...</td>\n",
       "      <td>NaN</td>\n",
       "    </tr>\n",
       "  </tbody>\n",
       "</table>\n",
       "</div>"
      ],
      "text/plain": [
       "  YearsCode  ConvertedComp                                         Employment  \\\n",
       "0        36            NaN  Independent contractor, freelancer, or self-em...   \n",
       "1         7            NaN                                 Employed full-time   \n",
       "2         4            NaN                                                NaN   \n",
       "3         7            NaN                                                NaN   \n",
       "4        15            NaN                                 Employed full-time   \n",
       "\n",
       "                                             DevType  \\\n",
       "0  Developer, desktop or enterprise applications;...   \n",
       "1            Developer, full-stack;Developer, mobile   \n",
       "2                                                NaN   \n",
       "3                                                NaN   \n",
       "4                                                NaN   \n",
       "\n",
       "                                          JobFactors                 JobSat  \\\n",
       "0  Languages, frameworks, and other technologies ...     Slightly satisfied   \n",
       "1                                                NaN      Very dissatisfied   \n",
       "2                                                NaN                    NaN   \n",
       "3  Flex time or a flexible schedule;Office enviro...  Slightly dissatisfied   \n",
       "4                                                NaN                    NaN   \n",
       "\n",
       "         LanguageWorkedWith       NEWLearn  \\\n",
       "0    C#;HTML/CSS;JavaScript    Once a year   \n",
       "1          JavaScript;Swift    Once a year   \n",
       "2  Objective-C;Python;Swift  Once a decade   \n",
       "3                       NaN    Once a year   \n",
       "4         HTML/CSS;Ruby;SQL    Once a year   \n",
       "\n",
       "                                         NEWOvertime        OpSys  \\\n",
       "0                   Often: 1-2 days per week or more      Windows   \n",
       "1                                                NaN        MacOS   \n",
       "2                                                NaN  Linux-based   \n",
       "3  Occasionally: 1-2 days per quarter but less th...  Linux-based   \n",
       "4                                                NaN      Windows   \n",
       "\n",
       "                    OrgSize  \\\n",
       "0          2 to 9 employees   \n",
       "1  1,000 to 4,999 employees   \n",
       "2                       NaN   \n",
       "3        20 to 99 employees   \n",
       "4                       NaN   \n",
       "\n",
       "                                      UndergradMajor  WorkWeekHrs  \n",
       "0  Computer science, computer engineering, or sof...         50.0  \n",
       "1  Computer science, computer engineering, or sof...          NaN  \n",
       "2                                                NaN          NaN  \n",
       "3  Computer science, computer engineering, or sof...         40.0  \n",
       "4  Computer science, computer engineering, or sof...          NaN  "
      ]
     },
     "execution_count": 6,
     "metadata": {},
     "output_type": "execute_result"
    }
   ],
   "source": [
    "df.head()"
   ]
  },
  {
   "cell_type": "code",
   "execution_count": 167,
   "metadata": {
    "scrolled": true
   },
   "outputs": [
    {
     "name": "stdout",
     "output_type": "stream",
     "text": [
      "<class 'pandas.core.frame.DataFrame'>\n",
      "RangeIndex: 64461 entries, 0 to 64460\n",
      "Data columns (total 13 columns):\n",
      " #   Column              Non-Null Count  Dtype  \n",
      "---  ------              --------------  -----  \n",
      " 0   YearsCode           57684 non-null  object \n",
      " 1   ConvertedComp       34756 non-null  float64\n",
      " 2   Employment          63854 non-null  object \n",
      " 3   DevType             49370 non-null  object \n",
      " 4   JobFactors          49349 non-null  object \n",
      " 5   JobSat              45194 non-null  object \n",
      " 6   LanguageWorkedWith  57378 non-null  object \n",
      " 7   NEWLearn            56156 non-null  object \n",
      " 8   NEWOvertime         43231 non-null  object \n",
      " 9   OpSys               56228 non-null  object \n",
      " 10  OrgSize             44334 non-null  object \n",
      " 11  UndergradMajor      50995 non-null  object \n",
      " 12  WorkWeekHrs         41151 non-null  float64\n",
      "dtypes: float64(2), object(11)\n",
      "memory usage: 6.4+ MB\n",
      "None\n",
      "       ConvertedComp   WorkWeekHrs\n",
      "count   3.475600e+04  41151.000000\n",
      "mean    1.037561e+05     40.782174\n",
      "std     2.268853e+05     17.816383\n",
      "min     0.000000e+00      1.000000\n",
      "25%     2.464800e+04     40.000000\n",
      "50%     5.404900e+04     40.000000\n",
      "75%     9.500000e+04     44.000000\n",
      "max     2.000000e+06    475.000000\n"
     ]
    }
   ],
   "source": [
    "print(df.info())\n",
    "print(df.describe())"
   ]
  },
  {
   "cell_type": "markdown",
   "metadata": {},
   "source": [
    "## Which were the most common programming languages in 2020?"
   ]
  },
  {
   "cell_type": "code",
   "execution_count": 161,
   "metadata": {},
   "outputs": [],
   "source": [
    "def split_survey_string (dataset, col_name, sep_type):\n",
    "    \n",
    "    \n",
    "    #Order values by count, rename columns and split strings\n",
    "    temp = dataset[col_name].value_counts().reset_index()\n",
    "    temp.rename(columns = {'index': 'method', col_name:'count'}, inplace = True)\n",
    "    temp1['method'] = temp['method'].str.split(sep_type)\n",
    "    \n",
    "    #Create a list with all separated values\n",
    "    val_list = []\n",
    "    for i in range(temp1.shape[0]):\n",
    "        for j in temp1['method'][i]:\n",
    "            val_list.append(j)\n",
    "    \n",
    "    #Convert list to series, count values and find the percetage of the total\n",
    "    dataframe = pd.Series(val_list)\n",
    "    ratio = (dataframe.value_counts()/dataframe.shape[0])\n",
    "    \n",
    "    return ratio"
   ]
  },
  {
   "cell_type": "code",
   "execution_count": 162,
   "metadata": {},
   "outputs": [
    {
     "data": {
      "text/plain": [
       "JavaScript               0.095204\n",
       "HTML/CSS                 0.088889\n",
       "SQL                      0.081836\n",
       "Python                   0.080972\n",
       "Java                     0.076736\n",
       "Bash/Shell/PowerShell    0.067595\n",
       "C++                      0.059269\n",
       "C                        0.057841\n",
       "C#                       0.052080\n",
       "PHP                      0.045999\n",
       "TypeScript               0.044435\n",
       "Go                       0.029533\n",
       "Kotlin                   0.025423\n",
       "Assembly                 0.023811\n",
       "Ruby                     0.022305\n",
       "Swift                    0.021644\n",
       "Rust                     0.020275\n",
       "R                        0.017700\n",
       "VBA                      0.017137\n",
       "Objective-C              0.016301\n",
       "Dart                     0.015165\n",
       "Perl                     0.013037\n",
       "Scala                    0.012833\n",
       "Haskell                  0.010317\n",
       "Julia                    0.003662\n",
       "dtype: float64"
      ]
     },
     "execution_count": 162,
     "metadata": {},
     "output_type": "execute_result"
    }
   ],
   "source": [
    "split_survey_string (df, 'LanguageWorkedWith', ';')"
   ]
  },
  {
   "cell_type": "code",
   "execution_count": 163,
   "metadata": {},
   "outputs": [],
   "source": [
    "#Plot top 10 programming languages\n",
    "def print_percentage_top(series, top_num, title):\n",
    "    \n",
    "    temp = series.head(top_num)\n",
    "\n",
    "    plt.figure(figsize = [11.69, 8.27])\n",
    "    base_color = sb.color_palette()[0]\n",
    "    ax = sb.barplot(temp.index, temp.values, color = base_color)\n",
    "\n",
    "    #Change long label to have the ticks horizontal\n",
    "    labels = [item.get_text() for item in ax.get_xticklabels()]\n",
    "    labels[5] = 'Shell'\n",
    "    ax.set_xticklabels(labels)\n",
    "\n",
    "    plt.title(title, fontsize = 18)\n",
    "\n",
    "    #Remove plot frame\n",
    "    ax.spines['top'].set_visible(False)\n",
    "    ax.spines['right'].set_visible(False)\n",
    "    ax.spines['left'].set_visible(False)\n",
    "\n",
    "    #Draw y grid below the bars\n",
    "    ax.set_axisbelow(True)\n",
    "    ax.grid(axis='y')\n",
    "\n",
    "    #Introducte percentages\n",
    "    for p in ax.patches:\n",
    "        width = p.get_width()\n",
    "        height = p.get_height()\n",
    "        x, y = p.get_xy() \n",
    "        ax.annotate( f'{height:.1%}', (x + width/2, y + height*1.02), ha='center')\n",
    "\n",
    "    plt.show()"
   ]
  },
  {
   "cell_type": "code",
   "execution_count": 164,
   "metadata": {},
   "outputs": [
    {
     "name": "stderr",
     "output_type": "stream",
     "text": [
      "C:\\Users\\rvile\\anaconda3\\envs\\blogpost\\lib\\site-packages\\seaborn\\_decorators.py:36: FutureWarning: Pass the following variables as keyword args: x, y. From version 0.12, the only valid positional argument will be `data`, and passing other arguments without an explicit keyword will result in an error or misinterpretation.\n",
      "  warnings.warn(\n"
     ]
    },
    {
     "data": {
      "image/png": "[encoded data removed]",
      "text/plain": [
       "<Figure size 841.68x595.44 with 1 Axes>"
      ]
     },
     "metadata": {
      "needs_background": "light"
     },
     "output_type": "display_data"
    }
   ],
   "source": [
    "print_percentage_top(ratio, 10, 'Top 10 programming languages in 2020')"
   ]
  },
  {
   "cell_type": "markdown",
   "metadata": {},
   "source": [
    "## Which variables influence more the salary?"
   ]
  },
  {
   "cell_type": "code",
   "execution_count": null,
   "metadata": {},
   "outputs": [],
   "source": [
    "# Consider only numerical variables\n",
    "X = df[['CareerSatisfaction', 'HoursPerWeek', 'JobSatisfaction', 'StackOverflowSatisfaction']]\n",
    "y = df['Salary']\n",
    "\n",
    "X_train, X_test, y_train, y_test = train_test_split(X, y, test_size = .30, random_state=42)\n",
    "\n",
    "#Four steps:\n",
    "\n",
    "#Instantiate\n",
    "lm_model = LinearRegression(normalize=True) \n",
    "\n",
    "#Fit - why does this break?\n",
    "lm_model.fit(X_train, y_train) \n",
    "\n",
    "#Predict\n",
    "#Score"
   ]
  },
  {
   "cell_type": "code",
   "execution_count": 158,
   "metadata": {},
   "outputs": [
    {
     "data": {
      "text/plain": [
       "array(['Developer, desktop or enterprise applications;Developer, full-stack',\n",
       "       'Developer, full-stack;Developer, mobile', nan, ...,\n",
       "       'Data scientist or machine learning specialist;Database administrator;Developer, back-end;Developer, front-end;System administrator',\n",
       "       'Academic researcher;Data or business analyst;Data scientist or machine learning specialist;Database administrator;Designer;Developer, back-end;Developer, desktop or enterprise applications;Developer, embedded applications or devices;Developer, front-end;Developer, full-stack;Developer, game or graphics;Developer, mobile;Developer, QA or test;DevOps specialist;Senior executive/VP;System administrator',\n",
       "       'Data or business analyst;Developer, mobile;Senior executive/VP;System administrator'],\n",
       "      dtype=object)"
      ]
     },
     "execution_count": 158,
     "metadata": {},
     "output_type": "execute_result"
    }
   ],
   "source": [
    "df.DevType.unique()"
   ]
  },
  {
   "cell_type": "code",
   "execution_count": null,
   "metadata": {},
   "outputs": [],
   "source": [
    "df[df['DevType'] == 'Data scientist or machine learning specialist']['LanguageWorkedWith'].value_counts()"
   ]
  },
  {
   "cell_type": "code",
   "execution_count": null,
   "metadata": {},
   "outputs": [],
   "source": [
    "#Useful functions of the course\n",
    "most_missing_cols = set(df.columns[df.isnull().mean() > 0.75]) #Provide a set of columns with more than 75% of the values missing\n",
    "no_nulls = set(df.columns[df.isnull().mean()==0]) #Provide a set of columns with 0 missing values.\n",
    "(ed_vals/df.shape[0]).plot(kind=\"bar\"); # The below should be a bar chart of the proportion of individuals in your ed_vals\n",
    "\n",
    "#Mean salaries grouped by sex and education\n",
    "pd.DataFrame(df.query(\"Professional == 'Professional developer' and (Gender == 'Male' or Gender == 'Female')\").groupby(['Gender', 'FormalEducation']).mean()['Salary'])\n",
    "\n"
   ]
  },
  {
   "cell_type": "code",
   "execution_count": null,
   "metadata": {},
   "outputs": [],
   "source": []
  }
 ],
 "metadata": {
  "kernelspec": {
   "display_name": "Python 3",
   "language": "python",
   "name": "python3"
  },
  "language_info": {
   "codemirror_mode": {
    "name": "ipython",
    "version": 3
   },
   "file_extension": ".py",
   "mimetype": "text/x-python",
   "name": "python",
   "nbconvert_exporter": "python",
   "pygments_lexer": "ipython3",
   "version": "3.8.5"
  }
 },
 "nbformat": 4,
 "nbformat_minor": 4
}
